{
 "cells": [
  {
   "cell_type": "markdown",
   "metadata": {},
   "source": [
    "# 2D to 3D LSTM\n",
    "\n",
    "This is the first approach to try to estimate 3D points coordinates from 2D keypoints extracted with Openpose. Here I will build a simple LSTM to perform the task over the Panoptic Studio dataset."
   ]
  },
  {
   "cell_type": "markdown",
   "metadata": {},
   "source": [
    "First, let's import all the necessary libraries."
   ]
  },
  {
   "cell_type": "code",
   "execution_count": 63,
   "metadata": {},
   "outputs": [],
   "source": [
    "# Pytorch utilities\n",
    "import torch\n",
    "import torch.nn as nn\n",
    "import torch.nn.functional as F\n",
    "import numpy as np\n",
    "import torch.optim as optim\n",
    "from torch.utils.data import TensorDataset, DataLoader\n",
    "\n",
    "from scipy.spatial.transform import Rotation as R\n",
    "\n",
    "# Plotting utilities\n",
    "%matplotlib widget\n",
    "import matplotlib\n",
    "import matplotlib.pyplot as plt\n",
    "from mpl_toolkits.mplot3d import Axes3D\n",
    "from IPython.display import HTML\n",
    "import matplotlib.animation as animation\n",
    "from torch.utils.tensorboard import SummaryWriter\n",
    "from timeit import default_timer as timer\n",
    "import pyprind\n",
    "\n",
    "# Directory and file utilities\n",
    "from os import listdir\n",
    "from os.path import isfile, isdir, join\n",
    "import json"
   ]
  },
  {
   "cell_type": "markdown",
   "metadata": {},
   "source": [
    "## Notebook parameters"
   ]
  },
  {
   "cell_type": "code",
   "execution_count": 64,
   "metadata": {},
   "outputs": [],
   "source": [
    "modes = { 0:'one video', 1:'one signer', 2:'all signers'}\n",
    "MODE =  modes[1]\n",
    "video = 3"
   ]
  },
  {
   "cell_type": "markdown",
   "metadata": {},
   "source": [
    "## Data acquisition\n",
    "Now I will define some functions in order to parse and organise the data, and later convert it to pytorch tensors."
   ]
  },
  {
   "cell_type": "markdown",
   "metadata": {},
   "source": [
    "The data is structured as follows: in the dataset directory there are several folders, each folder corresponds to a recording; each of these folders contains a folder with the audio, folders with face, hands and body keypoints estimations for each frame, and a folder with the video recorded from different views.\n",
    "\n",
    "In this first approach I will be using the keypoints estimations. Every keypoint folder (face, hands or body) is organized the same way: it contains a json per frame of the video, which includes the 3D keypoints estimation."
   ]
  },
  {
   "cell_type": "markdown",
   "metadata": {},
   "source": [
    "The function `get_keypoints` will go through each folder in the dataset directory and retrieve the face keypoints, the hands keypoints and the body keypoints. It will separate them into input (2D coordinates per joint per frame) and grountruth (third coordinate to estimate for each input 2D keypoint). \n",
    "The input will be of shape $([n videos, seq len, input size])$, where *seq_len* = number of frames, and *input_size* = face + hands + body keypoints, that is (70+(21+21)+26)x2 -multiplied by 2 because there are x and y coordinates-. The groundtruth (label) data will be of the same shape, except that the last dimension size will not be multiplied by 2 (there's only one coordinate to estimate).  "
   ]
  },
  {
   "cell_type": "code",
   "execution_count": 3,
   "metadata": {},
   "outputs": [],
   "source": [
    "def get_keypoints(data_path):\n",
    "    dataset = []\n",
    "    groundtruth = []\n",
    "    # Look over just the folders inside the directory\n",
    "    just_folders = filter(lambda x: isdir(join(data_path, x)), listdir(data_path))\n",
    "    for p in list(map(lambda x: join(data_path, x), just_folders)): \n",
    "        # Gets 2 list of n_frames lists, one for the 2D coordinates and one for the third coordinate.\n",
    "        # Each list of the n_frames lists contains, either the (x and y) or the z of each keypoint for the face(first line), hands(second), body(third).\n",
    "        # e.g. the first line will result in [[x1,y1,x2,y2...x70,y70]sub1...[x1,y1...x70,y70]subN], [[z1,z2...z70]sub1...[z1..z70]subN]\n",
    "        # Actually, as there will be two of each list above because there are two people en each video.\n",
    "        hands_2d, hands_3d = get_hands(p)\n",
    "        \n",
    "        # Concatenates the coordinates for the face, hands and body on the last dimension, for each person.\n",
    "        vid_input_p1, vid_input_p2 = hands_2d\n",
    "        vid_labels_p1, vid_labels_p2 = hands_3d\n",
    "        \n",
    "        dataset.append(vid_input_p1)\n",
    "        dataset.append(vid_input_p2)\n",
    "        groundtruth.append(vid_labels_p1)\n",
    "        groundtruth.append(vid_labels_p2)\n",
    "        print(f'Completed folder {p}')\n",
    "    return dataset, groundtruth"
   ]
  },
  {
   "cell_type": "markdown",
   "metadata": {},
   "source": [
    "The hands json contains the *landmarks* field inside both *left_hand* and *right_hand* field. As there are some frames that may not have one of the hands estimated, I've had to put some exception handling. "
   ]
  },
  {
   "cell_type": "code",
   "execution_count": 4,
   "metadata": {},
   "outputs": [],
   "source": [
    "def get_hands(path):\n",
    "    hand_2D_seq = ([], [])\n",
    "    hand_3D_seq = ([], [])\n",
    "    paths = map(lambda x: join(path, 'hdHand3d', x), sorted(listdir(join(path, 'hdHand3d'))))\n",
    "    files = list(filter(lambda x: isfile(x), paths))\n",
    "    for f in files: # The first and the last frames of these folders are blank.\n",
    "        with open(f, 'r') as j:\n",
    "            json_array = json.load(j)\n",
    "            i = 0\n",
    "            for person in json_array['people']:\n",
    "                if person['id'] != -1:\n",
    "                    try:\n",
    "                        # Separate x,y from z\n",
    "                        hands= [[person[hand]['landmarks'][c] \n",
    "                                 for c in range(len(person['right_hand']['landmarks'])) if (c+1)%3!=0] \n",
    "                                 for hand in ['left_hand', 'right_hand']]\n",
    "                        hand_2D_seq[person['id']].append(hands[0]+hands[1])\n",
    "                        \n",
    "                        hands_3d = [person[hand]['landmarks'][2::3] \n",
    "                                    for hand in ['left_hand', 'right_hand']]\n",
    "                        hand_3D_seq[person['id']].append(hands_3d[0]+hands_3d[1])\n",
    "                    \n",
    "                    except Exception as e: # In case left_hand or right_hand keys don't exist.\n",
    "                        if 'left_hand' in str(e): \n",
    "                            try: # Just put a 0., 0., 0. estimation for each keypoint of the left_hand\n",
    "                                hands = hand_2D_seq[person['id']][-1][:42]+[person['right_hand']['landmarks'][c] \n",
    "                                                                 for c in range(len(person['right_hand']['landmarks'])) if (c+1)%3!=0]\n",
    "                                hands_3d = hand_3D_seq[person['id']][-1][:21]+person['right_hand']['landmarks'][2::3]\n",
    "                            except: # In case neither left_hand nor right_hand exist\n",
    "                                hands = hand_2D_seq[person['id']][-1]\n",
    "                                hands_3d = hand_3D_seq[person['id']][-1]\n",
    "                        elif 'right_hand' in str(e): # Just put a 0., 0., 0. estimation for each keypoint of the right_hand\n",
    "                            hands = [person['left_hand']['landmarks'][c] \n",
    "                                     for c in range(len(person['left_hand']['landmarks'])) if (c+1)%3!=0]+hand_2D_seq[person['id']][-1][42:]\n",
    "                            hands_3d = person['left_hand']['landmarks'][2::3]+hand_3D_seq[person['id']][-1][21:]\n",
    "\n",
    "                        hand_2D_seq[person['id']].append(hands)\n",
    "                        hand_3D_seq[person['id']].append(hands_3d)\n",
    "                    i+=1\n",
    "                    pid = person['id']\n",
    "            if i<2:\n",
    "                hand_2D_seq[1-pid].append(hand_2D_seq[1-pid][-1])\n",
    "                hand_3D_seq[1-pid].append(hand_3D_seq[1-pid][-1])\n",
    "    print('Hands completed.')\n",
    "    return hand_2D_seq, hand_3D_seq"
   ]
  },
  {
   "cell_type": "code",
   "execution_count": 5,
   "metadata": {},
   "outputs": [
    {
     "name": "stdout",
     "output_type": "stream",
     "text": [
      "Hands completed.\n",
      "Completed folder ../../../data/DB keypoints/190419_asl2\n",
      "Hands completed.\n",
      "Completed folder ../../../data/DB keypoints/190419_asl4\n",
      "Hands completed.\n",
      "Completed folder ../../../data/DB keypoints/190419_asl5\n",
      "Hands completed.\n",
      "Completed folder ../../../data/DB keypoints/190425_asl1\n",
      "Hands completed.\n",
      "Completed folder ../../../data/DB keypoints/190425_asl2\n",
      "Hands completed.\n",
      "Completed folder ../../../data/DB keypoints/190425_asl3\n",
      "Hands completed.\n",
      "Completed folder ../../../data/DB keypoints/190425_asl5\n",
      "Hands completed.\n",
      "Completed folder ../../../data/DB keypoints/190425_asl7\n",
      "Hands completed.\n",
      "Completed folder ../../../data/DB keypoints/190425_asl9\n",
      "Hands completed.\n",
      "Completed folder ../../../data/DB keypoints/190425_asl91\n",
      "Hands completed.\n",
      "Completed folder ../../../data/DB keypoints/190611_asl1\n",
      "Hands completed.\n",
      "Completed folder ../../../data/DB keypoints/190611_asl2\n",
      "Hands completed.\n",
      "Completed folder ../../../data/DB keypoints/190611_asl3\n",
      "Hands completed.\n",
      "Completed folder ../../../data/DB keypoints/190611_asl4\n",
      "Hands completed.\n",
      "Completed folder ../../../data/DB keypoints/190611_asl5\n",
      "Hands completed.\n",
      "Completed folder ../../../data/DB keypoints/190611_asl6\n",
      "Hands completed.\n",
      "Completed folder ../../../data/DB keypoints/190611_asl7\n",
      "Hands completed.\n",
      "Completed folder ../../../data/DB keypoints/190611_asl8\n",
      "Hands completed.\n",
      "Completed folder ../../../data/DB keypoints/190611_asl910\n",
      "Hands completed.\n",
      "Completed folder ../../../data/DB keypoints/190611_asl911\n",
      "Hands completed.\n",
      "Completed folder ../../../data/DB keypoints/190611_asl912\n",
      "Hands completed.\n",
      "Completed folder ../../../data/DB keypoints/190611_asl913\n"
     ]
    }
   ],
   "source": [
    "data_path = '../../../data/DB keypoints'\n",
    "dataset, groundtruth = get_keypoints(data_path)"
   ]
  },
  {
   "cell_type": "code",
   "execution_count": 6,
   "metadata": {},
   "outputs": [],
   "source": [
    "def padding_seq(dataset):\n",
    "    max_seq = max([len(x) for x in dataset])\n",
    "    seq_lengths = []\n",
    "    for seq in dataset:\n",
    "        seq_lengths.append(len(seq))\n",
    "        for i in range(max_seq-len(seq)):\n",
    "            seq.append([np.nan for j in range(len(seq[0]))])\n",
    "        \n",
    "    return max_seq, seq_lengths\n",
    "\n",
    "max_seq, seq_lengths = padding_seq(dataset)\n",
    "_, _ = padding_seq(groundtruth)"
   ]
  },
  {
   "cell_type": "code",
   "execution_count": 7,
   "metadata": {},
   "outputs": [
    {
     "name": "stdout",
     "output_type": "stream",
     "text": [
      "(44, 8752, 84) (44, 8752, 42) (44,)\n"
     ]
    }
   ],
   "source": [
    "# From python lists to numpy ndarray.\n",
    "dataset = np.asarray(dataset)\n",
    "groundtruth = np.asarray(groundtruth)\n",
    "lengths = np.asarray(seq_lengths)\n",
    "print(dataset.shape, groundtruth.shape, lengths.shape)"
   ]
  },
  {
   "cell_type": "code",
   "execution_count": 8,
   "metadata": {},
   "outputs": [],
   "source": [
    "np.save('../../pickles/hands_data.npy', dataset)\n",
    "np.save('../../pickles/hands_ground.npy', groundtruth)"
   ]
  },
  {
   "cell_type": "code",
   "execution_count": 9,
   "metadata": {},
   "outputs": [],
   "source": [
    "np.save('../../pickles/hands_lengths.npy', lengths)"
   ]
  },
  {
   "cell_type": "markdown",
   "metadata": {},
   "source": [
    "## Dataset structuring\n",
    "Now let's convert the lists obtained to Pytorch tensors and organise them in train, validation and test datasets. \n",
    "First, I will define a padding function in order to make all the sequences of video frames the same length, so I can train the LSTM in batches. "
   ]
  },
  {
   "cell_type": "code",
   "execution_count": 176,
   "metadata": {},
   "outputs": [
    {
     "name": "stdout",
     "output_type": "stream",
     "text": [
      "8752\n"
     ]
    }
   ],
   "source": [
    "dataset = np.load('../../pickles/hands_data.npy', allow_pickle=True)\n",
    "groundtruth = np.load('../../pickles/hands_ground.npy', allow_pickle=True)\n",
    "lengths = np.load('../../pickles/hands_lengths.npy', allow_pickle=True)\n",
    "max_seq = dataset.shape[1]\n",
    "print(max_seq)"
   ]
  },
  {
   "cell_type": "code",
   "execution_count": 177,
   "metadata": {},
   "outputs": [
    {
     "name": "stdout",
     "output_type": "stream",
     "text": [
      "[8045 7836 7326 7141 8751 5155 8751 8752 8751 8751 8751 7205]\n",
      "[8045 7836 7326 7141 8750 5155 8750 8750 8750 8750 8750 7205]\n",
      "(840, 125, 84) (840, 125, 42) (840,)\n"
     ]
    }
   ],
   "source": [
    "if MODE == 'one video':\n",
    "    dataset, groundtruth = dataset[video], groundtruth[video]\n",
    "    chunks_d = np.split(dataset, 547, axis=0)[:lengths[video]//16]\n",
    "    chunks_g = np.split(groundtruth, 547, axis=0)[:lengths[video]//16]\n",
    "    chunks_d = tuple(np.expand_dims(c, axis=0) for c in chunks_d)\n",
    "    chunks_g = tuple(np.expand_dims(c, axis=0) for c in chunks_g)\n",
    "    \n",
    "    dataset = np.concatenate(chunks_d, axis=0)\n",
    "    groundtruth = np.concatenate(chunks_g, axis=0)\n",
    "    lengths = np.asarray([16 for i in range(lengths[video]//16)])\n",
    "    print(lengths.shape)\n",
    "\n",
    "elif MODE == 'one signer':\n",
    "    dataset, groundtruth, lengths = dataset[20::2, :-2], groundtruth[20::2, :-2], lengths[20::2]\n",
    "    print(lengths)\n",
    "    lengths = np.asarray([min(8750, x) for x in lengths])\n",
    "    print(lengths)\n",
    "    chunks_d, chunks_g = np.split(dataset, 70, axis=1), np.split(groundtruth, 70, axis=1)\n",
    "    \n",
    "    dataset, groundtruth = np.concatenate(chunks_d, axis=0), np.concatenate(chunks_g, axis=0)\n",
    "    lengths = np.concatenate(tuple([125 if j*125<=lengths[i] \n",
    "                                    else (lengths[i]%125 if (j-1)*125<lengths[i] \n",
    "                                          else 0) for i in range(12)] for j in range(1,71)), axis=0)\n",
    "    print(dataset.shape, groundtruth.shape, lengths.shape)\n",
    "    \n",
    "elif MODE == 'all signers':\n",
    "    chunks_d, chunks_g = np.split(dataset, 8, axis=1), np.split(groundtruth, 8, axis=1)\n",
    "    \n",
    "    dataset, groundtruth = np.concatenate(chunks_d, axis=0), np.concatenate(chunks_g, axis=0)\n",
    "    lengths = np.concatenate(tuple([1094 if j*1094<=lengths[i] \n",
    "                                    else (lengths[i]%1094 if (j-1)*1094<lengths[i] \n",
    "                                          else 0) for i in range(44)] for j in range(1,9)), axis=0)\n",
    "    print(dataset.shape, groundtruth.shape, lengths.shape)"
   ]
  },
  {
   "cell_type": "code",
   "execution_count": 178,
   "metadata": {},
   "outputs": [
    {
     "name": "stdout",
     "output_type": "stream",
     "text": [
      "(765, 125, 84) (765, 125, 42) (765,)\n"
     ]
    }
   ],
   "source": [
    "# Clean all NaN videos\n",
    "dataset = np.delete(dataset, np.where(lengths==0), axis=0)\n",
    "groundtruth = np.delete(groundtruth, np.where(lengths==0), axis=0)\n",
    "lengths = np.delete(lengths, np.where(lengths==0), axis=0)\n",
    "\n",
    "print(dataset.shape, groundtruth.shape, lengths.shape)"
   ]
  },
  {
   "cell_type": "code",
   "execution_count": 179,
   "metadata": {},
   "outputs": [
    {
     "name": "stdout",
     "output_type": "stream",
     "text": [
      "(765, 125, 84) (765, 125, 42) (765,)\n"
     ]
    }
   ],
   "source": [
    "def align(tensor, coordinates=1):\n",
    "    for n_vid in range(tensor.shape[0]):\n",
    "        max_value = [np.nanmax(tensor[n_vid, :,i::coordinates]) for i in range(coordinates)]\n",
    "        min_value = [np.nanmin(tensor[n_vid, :,i::coordinates]) for i in range(coordinates)]\n",
    "        center = [(max_value[i]+min_value[i])/2 for i in range(coordinates)]\n",
    "        for j in range(coordinates):\n",
    "            subtensor = tensor[n_vid, :, j::coordinates]\n",
    "            subtensor[:] = np.subtract(subtensor, center[j])\n",
    "\n",
    "align(dataset,2)\n",
    "align(groundtruth)\n",
    "print(dataset.shape, groundtruth.shape, lengths.shape)"
   ]
  },
  {
   "cell_type": "code",
   "execution_count": 180,
   "metadata": {},
   "outputs": [
    {
     "name": "stdout",
     "output_type": "stream",
     "text": [
      "(765, 125, 84) (765, 125, 42)\n"
     ]
    }
   ],
   "source": [
    "r = R.from_euler('y', 110, degrees=True)\n",
    "shapes = dataset.shape\n",
    "dataset = dataset.reshape(-1, 2)\n",
    "groundtruth = groundtruth.reshape(-1,1)\n",
    "xyz = np.concatenate((dataset, groundtruth), axis=1)\n",
    "xyz = r.apply(xyz)\n",
    "dataset, groundtruth = xyz[:, :2].reshape(shapes), xyz[:,2].reshape(shapes[0], shapes[1],42)\n",
    "\n",
    "print(dataset.shape, groundtruth.shape)"
   ]
  },
  {
   "cell_type": "code",
   "execution_count": 181,
   "metadata": {},
   "outputs": [
    {
     "name": "stdout",
     "output_type": "stream",
     "text": [
      "(765, 2)\n"
     ]
    }
   ],
   "source": [
    "def norm_uniform(tensor, coordinates=1, factor=None):\n",
    "    scale = []\n",
    "    for n_vid in range(tensor.shape[0]):\n",
    "        coord_scale = []\n",
    "        max_value = [np.nanmax(tensor[n_vid, :,i::coordinates]) for i in range(coordinates)]\n",
    "        min_value = [np.nanmin(tensor[n_vid, :,i::coordinates]) for i in range(coordinates)]\n",
    "        center = [(max_value[i]+min_value[i])/2 for i in range(coordinates)]\n",
    "        for j in range(coordinates):\n",
    "            subtensor = tensor[n_vid, :, j::coordinates]\n",
    "            subtensor[:] = np.subtract(subtensor, center[j])\n",
    "            if factor is not None:\n",
    "                subtensor[:] = np.divide(subtensor, factor[n_vid])\n",
    "            else:\n",
    "                subtensor[:] = np.divide(subtensor, max_value[j]-center[j])\n",
    "            coord_scale.append(max_value[j]-center[j])\n",
    "        scale.append(coord_scale)\n",
    "    return scale\n",
    "input_scale = np.asarray(norm_uniform(dataset,2)).squeeze()\n",
    "print(input_scale.shape)"
   ]
  },
  {
   "cell_type": "code",
   "execution_count": 182,
   "metadata": {},
   "outputs": [
    {
     "name": "stdout",
     "output_type": "stream",
     "text": [
      "(765, 2, 2)\n",
      "(765, 2) (765, 2)\n"
     ]
    }
   ],
   "source": [
    "def normalize(tensor, coordinates=1, std=None):\n",
    "    moments = []\n",
    "    for n_vid in range(tensor.shape[0]):\n",
    "        coord_moments = []\n",
    "        mean_value = [np.nanmean(tensor[n_vid, :,i::coordinates]) for i in range(coordinates)]\n",
    "        std_value = [np.nanstd(tensor[n_vid, :,i::coordinates]) for i in range(coordinates)]\n",
    "        if std is not None:\n",
    "            std_value = [std[n_vid]]\n",
    "        for j in range(coordinates):\n",
    "            subtensor = tensor[:, :, j::coordinates]\n",
    "            subtensor[:] = np.subtract(subtensor, mean_value[j])\n",
    "            subtensor[:] = np.divide(subtensor, std_value[j])\n",
    "            coord_moments.append((mean_value[j], std_value[j]))\n",
    "        moments.append(coord_moments)\n",
    "    return moments\n",
    "\n",
    "moments = np.asarray(normalize(dataset, 2))\n",
    "print(moments.shape)\n",
    "mom_x, mom_y = moments[:, 0], moments[:, 1]\n",
    "print(mom_x.shape, mom_y.shape)"
   ]
  },
  {
   "cell_type": "code",
   "execution_count": 183,
   "metadata": {},
   "outputs": [
    {
     "name": "stdout",
     "output_type": "stream",
     "text": [
      "(765, 125, 84) (765, 125, 42) (765,)\n",
      "(765, 2) (765, 2) (765, 2)\n"
     ]
    }
   ],
   "source": [
    "# Randomly shuffle videos\n",
    "permutation = np.random.permutation(dataset.shape[0])\n",
    "dataset, groundtruth, lengths = dataset[permutation], groundtruth[permutation], lengths[permutation]\n",
    "input_scale, mom_x, mom_y = input_scale[permutation], mom_x[permutation], mom_y[permutation]\n",
    "\n",
    "print(dataset.shape, groundtruth.shape, lengths.shape)\n",
    "print(input_scale.shape, mom_x.shape, mom_y.shape)"
   ]
  },
  {
   "cell_type": "code",
   "execution_count": 184,
   "metadata": {},
   "outputs": [
    {
     "name": "stdout",
     "output_type": "stream",
     "text": [
      "(612, 125, 84) (76, 125, 84) (77, 125, 84)\n",
      "(612, 125, 42) (76, 125, 42) (77, 125, 42)\n",
      "(612,) (76,) (77,)\n"
     ]
    }
   ],
   "source": [
    "l1, l2 = len(dataset), len(groundtruth)\n",
    "p1, p2 = 0.8, 0.9\n",
    "# Split in train, validation and test\n",
    "training_kp, val_kp, test_kp = dataset[:round(p1*l1)], dataset[round(p1*l1):round(p2*l1)], dataset[round(p2*l1):]\n",
    "training_lbl, val_lbl, test_lbl = groundtruth[:round(p1*l2)], groundtruth[round(p1*l2):round(p2*l2)], groundtruth[round(p2*l2):]\n",
    "training_lengths, val_lengths, test_lengths = lengths[:round(p1*l1)], lengths[round(p1*l1):round(p2*l1)], lengths[round(p2*l1):]\n",
    "training_inpscale, val_inpscale, test_inpscale = input_scale[:round(p1*l1)], input_scale[round(p1*l1):round(p2*l1)], input_scale[round(p2*l1):]\n",
    "training_mom_x, val_mom_x, test_mom_x = mom_x[:round(p1*l1)], mom_x[round(p1*l1):round(p2*l1)], mom_x[round(p2*l1):]\n",
    "training_mom_y, val_mom_y, test_mom_y = mom_y[:round(p1*l1)], mom_y[round(p1*l1):round(p2*l1)], mom_y[round(p2*l1):]\n",
    "\n",
    "print(training_kp.shape, val_kp.shape, test_kp.shape)\n",
    "print(training_lbl.shape, val_lbl.shape, test_lbl.shape)\n",
    "print(training_lengths.shape, val_lengths.shape, test_lengths.shape)"
   ]
  },
  {
   "cell_type": "code",
   "execution_count": 185,
   "metadata": {},
   "outputs": [
    {
     "name": "stdout",
     "output_type": "stream",
     "text": [
      "(612,) (76,)\n",
      "(612,) (76,)\n"
     ]
    }
   ],
   "source": [
    "training_outscale = np.asarray(norm_uniform(training_lbl)).squeeze()\n",
    "val_outscale = np.asarray(norm_uniform(val_lbl)).squeeze()\n",
    "test_outscale = np.asarray(norm_uniform(test_lbl)).squeeze()\n",
    "print(training_outscale.shape, val_outscale.shape)\n",
    "\n",
    "training_mom_z = np.asarray(normalize(training_lbl))[:, 0, 1]\n",
    "val_mom_z = np.asarray(normalize(val_lbl))[:, 0, 1]\n",
    "test_mom_z = np.asarray(normalize(test_lbl))[:, 0, 1]\n",
    "print(training_mom_z.shape, val_mom_z.shape)"
   ]
  },
  {
   "cell_type": "code",
   "execution_count": 186,
   "metadata": {},
   "outputs": [
    {
     "name": "stdout",
     "output_type": "stream",
     "text": [
      "torch.Size([612, 125, 84]) torch.Size([76, 125, 42]) torch.Size([77])\n",
      "torch.Size([612, 2]) torch.Size([612])\n"
     ]
    }
   ],
   "source": [
    "# From python lists to pytorch tensors.\n",
    "training_kp, val_kp, test_kp = torch.tensor(np.nan_to_num(training_kp), dtype=torch.float32), torch.tensor(np.nan_to_num(val_kp), dtype=torch.float32), torch.tensor(np.nan_to_num(test_kp), dtype=torch.float32)\n",
    "training_lbl, val_lbl, test_lbl = torch.tensor(np.nan_to_num(training_lbl), dtype=torch.float32), torch.tensor(np.nan_to_num(val_lbl), dtype=torch.float32), torch.tensor(np.nan_to_num(test_lbl), dtype=torch.float32)\n",
    "training_lengths, val_lengths, test_lengths = torch.tensor(np.nan_to_num(training_lengths), dtype=torch.float32), torch.tensor(np.nan_to_num(val_lengths), dtype=torch.float32), torch.tensor(np.nan_to_num(test_lengths), dtype=torch.float32)\n",
    "training_inpscale, val_inpscale, test_inpscale = torch.tensor(np.nan_to_num(training_inpscale), dtype=torch.float32), torch.tensor(np.nan_to_num(val_inpscale), dtype=torch.float32), torch.tensor(np.nan_to_num(test_inpscale), dtype=torch.float32)\n",
    "training_outscale, val_outscale, test_outscale = torch.tensor(np.nan_to_num(training_outscale), dtype=torch.float32), torch.tensor(np.nan_to_num(val_outscale), dtype=torch.float32), torch.tensor(np.nan_to_num(test_outscale), dtype=torch.float32)\n",
    "training_mom_x, val_mom_x, test_mom_x = torch.tensor(np.nan_to_num(training_mom_x), dtype=torch.float32), torch.tensor(np.nan_to_num(val_mom_x), dtype=torch.float32), torch.tensor(np.nan_to_num(test_mom_x), dtype=torch.float32)\n",
    "training_mom_y, val_mom_y, test_mom_y = torch.tensor(np.nan_to_num(training_mom_y), dtype=torch.float32), torch.tensor(np.nan_to_num(val_mom_y), dtype=torch.float32), torch.tensor(np.nan_to_num(test_mom_y), dtype=torch.float32)\n",
    "training_mom_z, val_mom_z, test_mom_z = torch.tensor(np.nan_to_num(training_mom_z), dtype=torch.float32), torch.tensor(np.nan_to_num(val_mom_z), dtype=torch.float32), torch.tensor(np.nan_to_num(test_mom_z), dtype=torch.float32)\n",
    "\n",
    "print(training_kp.shape, val_lbl.shape, test_lengths.shape)\n",
    "print(training_inpscale.shape, training_outscale.shape)"
   ]
  },
  {
   "cell_type": "markdown",
   "metadata": {},
   "source": [
    "Finally we define the batch_size and put the datasets in DataLoaders."
   ]
  },
  {
   "cell_type": "code",
   "execution_count": 187,
   "metadata": {},
   "outputs": [
    {
     "name": "stdout",
     "output_type": "stream",
     "text": [
      "<torch.utils.data.dataloader.DataLoader object at 0x7f53bc387e50>\n"
     ]
    }
   ],
   "source": [
    "train_data = TensorDataset(training_kp, training_lbl, training_lengths,\n",
    "                          training_inpscale, training_outscale,\n",
    "                          training_mom_x, training_mom_y, training_mom_z)\n",
    "val_data = TensorDataset(val_kp, val_lbl, val_lengths,\n",
    "                        val_inpscale, val_outscale,\n",
    "                        val_mom_x, val_mom_y, val_mom_z)\n",
    "test_data = TensorDataset(test_kp, test_lbl, test_lengths,\n",
    "                         test_inpscale, test_outscale,\n",
    "                         test_mom_x, test_mom_y, test_mom_z)\n",
    "\n",
    "batch_size = 25\n",
    "\n",
    "train_loader = DataLoader(train_data, shuffle=True, batch_size=batch_size, drop_last=True)\n",
    "val_loader = DataLoader(val_data, shuffle=True, batch_size=batch_size, drop_last=True)\n",
    "test_loader = DataLoader(test_data, shuffle=True, batch_size=batch_size, drop_last=True)\n",
    "\n",
    "print(train_loader)"
   ]
  },
  {
   "cell_type": "markdown",
   "metadata": {},
   "source": [
    "If we have a GPU available we set our device to GPU."
   ]
  },
  {
   "cell_type": "code",
   "execution_count": 188,
   "metadata": {},
   "outputs": [
    {
     "name": "stdout",
     "output_type": "stream",
     "text": [
      "GPU is available\n"
     ]
    }
   ],
   "source": [
    "# torch.cuda.is_available() checks and returns a Boolean True if a GPU is available, else it'll return False\n",
    "is_cuda = torch.cuda.is_available()\n",
    "\n",
    "# If we have a GPU available, we'll set our device to GPU. We'll use this device variable later in our code.\n",
    "if is_cuda:\n",
    "    device = torch.device(\"cuda\")\n",
    "    print(\"GPU is available\")\n",
    "else:\n",
    "    device = torch.device(\"cpu\")\n",
    "    print(\"GPU not available, CPU used\")"
   ]
  },
  {
   "cell_type": "markdown",
   "metadata": {},
   "source": [
    "Let's print some examples to see whether it is loaded correctly or not."
   ]
  },
  {
   "cell_type": "code",
   "execution_count": 189,
   "metadata": {},
   "outputs": [
    {
     "name": "stdout",
     "output_type": "stream",
     "text": [
      "torch.Size([25, 125, 84]) torch.Size([25, 125, 42]) torch.Size([25]) torch.Size([25, 2]) torch.Size([25])\n"
     ]
    }
   ],
   "source": [
    "dataiter = iter(train_loader)\n",
    "sample_x, sample_y, sample_len, iscale, oscale, momx, momy, momz = dataiter.next()\n",
    "\n",
    "print(sample_x.shape, sample_y.shape, sample_len.shape, iscale.shape, momz.shape)"
   ]
  },
  {
   "cell_type": "markdown",
   "metadata": {},
   "source": [
    "## Model building\n",
    "It is time to build the model for this approach. It will consist on a single/double layer LSTM followed by a Linear layer with output size the number of keypoints we want to estimate. I also define a method to initialize the hidden_state of the cell."
   ]
  },
  {
   "cell_type": "code",
   "execution_count": 190,
   "metadata": {},
   "outputs": [],
   "source": [
    "class LSTM_2D3D(nn.Module):\n",
    "    \n",
    "    def __init__(self, input_size, output_size, hidden_dim, n_layers, bidirectional, dropout=0.):\n",
    "        super().__init__()\n",
    "        # Save the model parameters\n",
    "        self.output_size = output_size\n",
    "        self.n_layers = n_layers\n",
    "        self.hidden_dim = hidden_dim\n",
    "        self.bi = bidirectional\n",
    "        \n",
    "        # Define the architecture\n",
    "        self.lstm = nn.LSTM(input_size, hidden_dim, n_layers, batch_first=True, bidirectional=bidirectional, dropout=dropout)\n",
    "        self.fc = nn.Sequential(\n",
    "            nn.Linear(hidden_dim*(2 if self.bi else 1), output_size)\n",
    "        )\n",
    "        \n",
    "    def forward(self, x, state, lengths):\n",
    "        # Describe the forward step\n",
    "        batch_size, seq_len = x.size(0), x.size(1) # We save the batch size and the (maximum) sequence length\n",
    "        \n",
    "        # Need to pack a tensor containing padded sequences of variable length\n",
    "        packed = nn.utils.rnn.pack_padded_sequence(x, lengths=lengths, batch_first=True, enforce_sorted=False)\n",
    "        ht, hidden_state = self.lstm(packed, state) # ht will be a PackedSequence\n",
    "\n",
    "        # Need to flatten and reshape the output to feed it to the Linear layer\n",
    "        ht = ht.data.contiguous() # ht will be of shape [sum(lengths), hidden_dim]\n",
    "        ot = self.fc(ht) # ot will be of shape [sum(lengths), ouput_size]\n",
    "\n",
    "        l_ot = [ot[:int(length)] for length in lengths] # list of batch elements, each shape [lengths[i], output_size]\n",
    "        packed_ot = nn.utils.rnn.pack_sequence(l_ot, enforce_sorted=False) # PackedSequence\n",
    "        # Finally return to shape [batch_size, seq_len, output_size]\n",
    "        ot, _ = nn.utils.rnn.pad_packed_sequence(packed_ot, batch_first=True, total_length=seq_len)\n",
    "        \n",
    "        return ot, hidden_state\n",
    "    \n",
    "    def init_hidden(self, batch_size):\n",
    "        weight = next(self.parameters()).data\n",
    "        hidden = (weight.new(self.n_layers*(2 if self.bi else 1), batch_size, self.hidden_dim).zero_().to(device),\n",
    "                      weight.new(self.n_layers*(2 if self.bi else 1), batch_size, self.hidden_dim).zero_().to(device))\n",
    "        return hidden"
   ]
  },
  {
   "cell_type": "code",
   "execution_count": 191,
   "metadata": {},
   "outputs": [
    {
     "name": "stdout",
     "output_type": "stream",
     "text": [
      "LSTM_2D3D(\n",
      "  (lstm): LSTM(84, 512, num_layers=2, batch_first=True)\n",
      "  (fc): Sequential(\n",
      "    (0): Linear(in_features=512, out_features=42, bias=True)\n",
      "  )\n",
      ")\n",
      "3347498\n"
     ]
    }
   ],
   "source": [
    "# Define some model parameters\n",
    "INPUT_SIZE = sample_x.size(2)\n",
    "OUTPUT_SIZE = sample_y.size(2)\n",
    "HIDDEN_DIM = 512\n",
    "N_LAYERS = 2\n",
    "BIDIRECTIONAL = False\n",
    "\n",
    "# Instantiate the model\n",
    "model = LSTM_2D3D(INPUT_SIZE, OUTPUT_SIZE, HIDDEN_DIM, N_LAYERS, BIDIRECTIONAL, dropout=0.)\n",
    "model.to(device)\n",
    "print(model)\n",
    "print(sum(p.numel() for p in model.parameters() if p.requires_grad))"
   ]
  },
  {
   "cell_type": "markdown",
   "metadata": {},
   "source": [
    "## Training\n",
    "Now we will proceed with the training. The first cell will define the learning rate, the loss function and the selected optimizer for the training process. Then we will proceed with a training over a number of epochs in which we will print it's training loss and validation loss. I also will be using Tensorboard to have a much nicer view of the results."
   ]
  },
  {
   "cell_type": "code",
   "execution_count": 192,
   "metadata": {},
   "outputs": [],
   "source": [
    "def substract_root_PJPE(output):\n",
    "    jhl, jhr = torch.chunk(output[:, :, :21], max_seq, dim=1), torch.chunk(output[:, :, 21:], max_seq, dim=1)\n",
    "    joints_merged = []\n",
    "    roots = [0, 0]\n",
    "    for i, joints in enumerate((jhl, jhr)):\n",
    "        n_joints = []\n",
    "        for chunk in joints:\n",
    "            n_joints.append(chunk.sub(chunk[:,:,roots[i]].unsqueeze(2)))\n",
    "        joints_merged.append(torch.cat(tuple(n_joints), dim=1))\n",
    "    joints_merged = torch.cat(tuple(joints_merged), dim=2)\n",
    "    return joints_merged"
   ]
  },
  {
   "cell_type": "code",
   "execution_count": 193,
   "metadata": {},
   "outputs": [],
   "source": [
    "def mpjpe(rooted_o, rooted_l, seq_lens):\n",
    "    MPJPE = []\n",
    "    for i in range(len(seq_lens)):\n",
    "        MPJPE.append(rooted_o[i,:int(seq_lens[i])].sub(rooted_l[i,:int(seq_lens[i])]).abs().mean().item())\n",
    "    \n",
    "    return np.mean(MPJPE)\n",
    "    "
   ]
  },
  {
   "cell_type": "code",
   "execution_count": 194,
   "metadata": {},
   "outputs": [],
   "source": [
    "NUM_EPOCHS = 80\n",
    "lr = 5e-6\n",
    "loss_function = nn.MSELoss()\n",
    "one_cycle = True\n",
    "optimizer = optim.Adam(model.parameters(), lr=lr, weight_decay=0.0)\n",
    "if one_cycle:\n",
    "    scheduler = torch.optim.lr_scheduler.OneCycleLR(optimizer, max_lr=lr, \n",
    "                                                  steps_per_epoch=len(train_loader), epochs=NUM_EPOCHS,\n",
    "                                                  div_factor=25.0, final_div_factor=10000.0)"
   ]
  },
  {
   "cell_type": "code",
   "execution_count": 195,
   "metadata": {},
   "outputs": [],
   "source": [
    "from datetime import datetime\n",
    "name = 'hands_whole'\n",
    "writer = SummaryWriter(log_dir=f'/deeplearning/logs/{name}{datetime.now()}_lr-{lr}')"
   ]
  },
  {
   "cell_type": "code",
   "execution_count": 196,
   "metadata": {},
   "outputs": [
    {
     "name": "stdout",
     "output_type": "stream",
     "text": [
      "Finished epoch 1/80 in 1.56s.\n",
      " Loss: 0.6633  Val Loss: 1.0440\n",
      "Train MPJPE: 0.4949  Val MPJPE: 0.6275\n",
      "Finished epoch 2/80 in 1.55s.\n",
      " Loss: 0.6649  Val Loss: 1.0414\n",
      "Train MPJPE: 0.4954  Val MPJPE: 0.6306\n",
      "Finished epoch 3/80 in 1.55s.\n",
      " Loss: 0.6650  Val Loss: 1.0481\n",
      "Train MPJPE: 0.4937  Val MPJPE: 0.6294\n",
      "Finished epoch 4/80 in 1.54s.\n",
      " Loss: 0.6688  Val Loss: 1.0457\n",
      "Train MPJPE: 0.4927  Val MPJPE: 0.6274\n",
      "Finished epoch 5/80 in 1.54s.\n",
      " Loss: 0.6641  Val Loss: 1.0496\n",
      "Train MPJPE: 0.4919  Val MPJPE: 0.6265\n",
      "Finished epoch 6/80 in 1.55s.\n",
      " Loss: 0.6611  Val Loss: 1.0443\n",
      "Train MPJPE: 0.4900  Val MPJPE: 0.6226\n",
      "Finished epoch 7/80 in 1.54s.\n",
      " Loss: 0.6635  Val Loss: 1.0335\n",
      "Train MPJPE: 0.4894  Val MPJPE: 0.6266\n",
      "Finished epoch 8/80 in 1.54s.\n",
      " Loss: 0.6611  Val Loss: 1.0460\n",
      "Train MPJPE: 0.4880  Val MPJPE: 0.6167\n",
      "Finished epoch 9/80 in 1.55s.\n",
      " Loss: 0.6629  Val Loss: 1.0498\n",
      "Train MPJPE: 0.4861  Val MPJPE: 0.6215\n",
      "Finished epoch 10/80 in 1.55s.\n",
      " Loss: 0.6599  Val Loss: 1.0473\n",
      "Train MPJPE: 0.4815  Val MPJPE: 0.6183\n",
      "Finished epoch 11/80 in 1.55s.\n",
      " Loss: 0.6595  Val Loss: 1.0441\n",
      "Train MPJPE: 0.4786  Val MPJPE: 0.6123\n",
      "Finished epoch 12/80 in 1.54s.\n",
      " Loss: 0.6566  Val Loss: 1.0414\n",
      "Train MPJPE: 0.4721  Val MPJPE: 0.6061\n",
      "Finished epoch 13/80 in 1.55s.\n",
      " Loss: 0.6556  Val Loss: 1.0437\n",
      "Train MPJPE: 0.4714  Val MPJPE: 0.6090\n",
      "Finished epoch 14/80 in 1.55s.\n",
      " Loss: 0.6526  Val Loss: 1.0355\n",
      "Train MPJPE: 0.4619  Val MPJPE: 0.5991\n",
      "Finished epoch 15/80 in 1.55s.\n",
      " Loss: 0.6519  Val Loss: 1.0279\n",
      "Train MPJPE: 0.4579  Val MPJPE: 0.5936\n",
      "Finished epoch 16/80 in 1.55s.\n",
      " Loss: 0.6509  Val Loss: 1.0208\n",
      "Train MPJPE: 0.4506  Val MPJPE: 0.5836\n",
      "Finished epoch 17/80 in 1.55s.\n",
      " Loss: 0.6440  Val Loss: 1.0305\n",
      "Train MPJPE: 0.4413  Val MPJPE: 0.5758\n",
      "Finished epoch 18/80 in 1.55s.\n",
      " Loss: 0.6477  Val Loss: 1.0274\n",
      "Train MPJPE: 0.4325  Val MPJPE: 0.5649\n",
      "Finished epoch 19/80 in 1.55s.\n",
      " Loss: 0.6386  Val Loss: 1.0282\n",
      "Train MPJPE: 0.4200  Val MPJPE: 0.5444\n",
      "Finished epoch 20/80 in 1.55s.\n",
      " Loss: 0.6363  Val Loss: 1.0182\n",
      "Train MPJPE: 0.4145  Val MPJPE: 0.5490\n",
      "Finished epoch 21/80 in 1.55s.\n",
      " Loss: 0.6319  Val Loss: 1.0234\n",
      "Train MPJPE: 0.4059  Val MPJPE: 0.5291\n",
      "Finished epoch 22/80 in 1.55s.\n",
      " Loss: 0.6333  Val Loss: 1.0033\n",
      "Train MPJPE: 0.4035  Val MPJPE: 0.5371\n",
      "Finished epoch 23/80 in 1.55s.\n",
      " Loss: 0.6346  Val Loss: 1.0176\n",
      "Train MPJPE: 0.4013  Val MPJPE: 0.5317\n",
      "Finished epoch 24/80 in 1.55s.\n",
      " Loss: 0.6354  Val Loss: 1.0077\n",
      "Train MPJPE: 0.4001  Val MPJPE: 0.5225\n",
      "Finished epoch 25/80 in 1.55s.\n",
      " Loss: 0.6287  Val Loss: 1.0216\n",
      "Train MPJPE: 0.3961  Val MPJPE: 0.5142\n",
      "Finished epoch 26/80 in 1.55s.\n",
      " Loss: 0.6319  Val Loss: 1.0166\n",
      "Train MPJPE: 0.3973  Val MPJPE: 0.5238\n",
      "Finished epoch 27/80 in 1.55s.\n",
      " Loss: 0.6337  Val Loss: 1.0117\n",
      "Train MPJPE: 0.3941  Val MPJPE: 0.5145\n",
      "Finished epoch 28/80 in 1.55s.\n",
      " Loss: 0.6270  Val Loss: 1.0204\n",
      "Train MPJPE: 0.3931  Val MPJPE: 0.5197\n",
      "Finished epoch 29/80 in 1.55s.\n",
      " Loss: 0.6318  Val Loss: 1.0101\n",
      "Train MPJPE: 0.3940  Val MPJPE: 0.5135\n",
      "Finished epoch 30/80 in 1.55s.\n",
      " Loss: 0.6304  Val Loss: 1.0064\n",
      "Train MPJPE: 0.3896  Val MPJPE: 0.5238\n",
      "Finished epoch 31/80 in 1.55s.\n",
      " Loss: 0.6289  Val Loss: 1.0151\n",
      "Train MPJPE: 0.3911  Val MPJPE: 0.5183\n",
      "Finished epoch 32/80 in 1.55s.\n",
      " Loss: 0.6295  Val Loss: 1.0060\n",
      "Train MPJPE: 0.3884  Val MPJPE: 0.5143\n",
      "Finished epoch 33/80 in 1.55s.\n",
      " Loss: 0.6301  Val Loss: 1.0026\n",
      "Train MPJPE: 0.3898  Val MPJPE: 0.5164\n",
      "Finished epoch 34/80 in 1.55s.\n",
      " Loss: 0.6291  Val Loss: 1.0044\n",
      "Train MPJPE: 0.3880  Val MPJPE: 0.5144\n",
      "Finished epoch 35/80 in 1.56s.\n",
      " Loss: 0.6272  Val Loss: 1.0020\n",
      "Train MPJPE: 0.3879  Val MPJPE: 0.5119\n",
      "Finished epoch 36/80 in 1.55s.\n",
      " Loss: 0.6302  Val Loss: 1.0132\n",
      "Train MPJPE: 0.3858  Val MPJPE: 0.5141\n",
      "Finished epoch 37/80 in 1.56s.\n",
      " Loss: 0.6249  Val Loss: 1.0154\n",
      "Train MPJPE: 0.3846  Val MPJPE: 0.5022\n",
      "Finished epoch 38/80 in 1.56s.\n",
      " Loss: 0.6294  Val Loss: 1.0107\n",
      "Train MPJPE: 0.3857  Val MPJPE: 0.5111\n",
      "Finished epoch 39/80 in 1.56s.\n",
      " Loss: 0.6263  Val Loss: 0.9975\n",
      "Train MPJPE: 0.3854  Val MPJPE: 0.5131\n",
      "Finished epoch 40/80 in 1.56s.\n",
      " Loss: 0.6283  Val Loss: 1.0037\n",
      "Train MPJPE: 0.3857  Val MPJPE: 0.5188\n",
      "Finished epoch 41/80 in 1.56s.\n",
      " Loss: 0.6247  Val Loss: 1.0064\n",
      "Train MPJPE: 0.3822  Val MPJPE: 0.5101\n",
      "Finished epoch 42/80 in 1.55s.\n",
      " Loss: 0.6245  Val Loss: 1.0197\n",
      "Train MPJPE: 0.3802  Val MPJPE: 0.5044\n",
      "Finished epoch 43/80 in 1.55s.\n",
      " Loss: 0.6282  Val Loss: 1.0056\n",
      "Train MPJPE: 0.3838  Val MPJPE: 0.5051\n",
      "Finished epoch 44/80 in 1.54s.\n",
      " Loss: 0.6300  Val Loss: 0.9954\n",
      "Train MPJPE: 0.3836  Val MPJPE: 0.5145\n",
      "Finished epoch 45/80 in 1.54s.\n",
      " Loss: 0.6296  Val Loss: 1.0125\n",
      "Train MPJPE: 0.3824  Val MPJPE: 0.5123\n",
      "Finished epoch 46/80 in 1.54s.\n",
      " Loss: 0.6283  Val Loss: 1.0076\n",
      "Train MPJPE: 0.3825  Val MPJPE: 0.5062\n",
      "Finished epoch 47/80 in 1.54s.\n",
      " Loss: 0.6299  Val Loss: 1.0166\n",
      "Train MPJPE: 0.3837  Val MPJPE: 0.5152\n",
      "Finished epoch 48/80 in 1.55s.\n",
      " Loss: 0.6307  Val Loss: 1.0127\n",
      "Train MPJPE: 0.3830  Val MPJPE: 0.4976\n",
      "Finished epoch 49/80 in 1.54s.\n",
      " Loss: 0.6286  Val Loss: 1.0016\n",
      "Train MPJPE: 0.3808  Val MPJPE: 0.5016\n",
      "Finished epoch 50/80 in 1.54s.\n",
      " Loss: 0.6274  Val Loss: 1.0141\n",
      "Train MPJPE: 0.3824  Val MPJPE: 0.5010\n",
      "Finished epoch 51/80 in 1.54s.\n",
      " Loss: 0.6301  Val Loss: 1.0055\n",
      "Train MPJPE: 0.3816  Val MPJPE: 0.5068\n",
      "Finished epoch 52/80 in 1.56s.\n",
      " Loss: 0.6270  Val Loss: 1.0073\n",
      "Train MPJPE: 0.3802  Val MPJPE: 0.5042\n",
      "Finished epoch 53/80 in 1.55s.\n",
      " Loss: 0.6273  Val Loss: 1.0173\n",
      "Train MPJPE: 0.3792  Val MPJPE: 0.5109\n",
      "Finished epoch 54/80 in 1.55s.\n",
      " Loss: 0.6256  Val Loss: 1.0117\n",
      "Train MPJPE: 0.3810  Val MPJPE: 0.5041\n",
      "Finished epoch 55/80 in 1.56s.\n",
      " Loss: 0.6271  Val Loss: 1.0113\n",
      "Train MPJPE: 0.3822  Val MPJPE: 0.5115\n",
      "Finished epoch 56/80 in 1.55s.\n",
      " Loss: 0.6239  Val Loss: 1.0187\n",
      "Train MPJPE: 0.3812  Val MPJPE: 0.5113\n",
      "Finished epoch 57/80 in 1.55s.\n",
      " Loss: 0.6231  Val Loss: 1.0170\n",
      "Train MPJPE: 0.3802  Val MPJPE: 0.5031\n",
      "Finished epoch 58/80 in 1.56s.\n",
      " Loss: 0.6255  Val Loss: 1.0116\n",
      "Train MPJPE: 0.3803  Val MPJPE: 0.5018\n",
      "Finished epoch 59/80 in 1.56s.\n",
      " Loss: 0.6235  Val Loss: 1.0095\n",
      "Train MPJPE: 0.3796  Val MPJPE: 0.5128\n",
      "Finished epoch 60/80 in 1.56s.\n",
      " Loss: 0.6270  Val Loss: 1.0075\n",
      "Train MPJPE: 0.3824  Val MPJPE: 0.5089\n",
      "Finished epoch 61/80 in 1.55s.\n",
      " Loss: 0.6278  Val Loss: 1.0117\n",
      "Train MPJPE: 0.3806  Val MPJPE: 0.4964\n",
      "Finished epoch 62/80 in 1.55s.\n",
      " Loss: 0.6284  Val Loss: 1.0203\n",
      "Train MPJPE: 0.3806  Val MPJPE: 0.5082\n",
      "Finished epoch 63/80 in 1.54s.\n",
      " Loss: 0.6262  Val Loss: 1.0069\n",
      "Train MPJPE: 0.3779  Val MPJPE: 0.5066\n",
      "Finished epoch 64/80 in 1.55s.\n",
      " Loss: 0.6275  Val Loss: 1.0167\n",
      "Train MPJPE: 0.3807  Val MPJPE: 0.5110\n",
      "Finished epoch 65/80 in 1.54s.\n",
      " Loss: 0.6235  Val Loss: 1.0087\n",
      "Train MPJPE: 0.3777  Val MPJPE: 0.5033\n",
      "Finished epoch 66/80 in 1.55s.\n",
      " Loss: 0.6247  Val Loss: 1.0134\n",
      "Train MPJPE: 0.3782  Val MPJPE: 0.5093\n",
      "Finished epoch 67/80 in 1.55s.\n",
      " Loss: 0.6259  Val Loss: 1.0130\n",
      "Train MPJPE: 0.3793  Val MPJPE: 0.5110\n",
      "Finished epoch 68/80 in 1.55s.\n",
      " Loss: 0.6274  Val Loss: 1.0068\n",
      "Train MPJPE: 0.3777  Val MPJPE: 0.5034\n",
      "Finished epoch 69/80 in 1.55s.\n",
      " Loss: 0.6278  Val Loss: 1.0139\n",
      "Train MPJPE: 0.3795  Val MPJPE: 0.5025\n",
      "Finished epoch 70/80 in 1.56s.\n",
      " Loss: 0.6196  Val Loss: 1.0081\n",
      "Train MPJPE: 0.3747  Val MPJPE: 0.5091\n",
      "Finished epoch 71/80 in 1.55s.\n",
      " Loss: 0.6243  Val Loss: 1.0164\n",
      "Train MPJPE: 0.3760  Val MPJPE: 0.5148\n",
      "Finished epoch 72/80 in 1.55s.\n",
      " Loss: 0.6271  Val Loss: 1.0018\n",
      "Train MPJPE: 0.3799  Val MPJPE: 0.5038\n",
      "Finished epoch 73/80 in 1.56s.\n",
      " Loss: 0.6231  Val Loss: 1.0168\n",
      "Train MPJPE: 0.3784  Val MPJPE: 0.4957\n",
      "Finished epoch 74/80 in 1.55s.\n",
      " Loss: 0.6247  Val Loss: 1.0200\n",
      "Train MPJPE: 0.3787  Val MPJPE: 0.5087\n",
      "Finished epoch 75/80 in 1.55s.\n",
      " Loss: 0.6284  Val Loss: 1.0166\n",
      "Train MPJPE: 0.3791  Val MPJPE: 0.4943\n",
      "Finished epoch 76/80 in 1.56s.\n",
      " Loss: 0.6270  Val Loss: 1.0098\n",
      "Train MPJPE: 0.3798  Val MPJPE: 0.5096\n",
      "Finished epoch 77/80 in 1.56s.\n",
      " Loss: 0.6285  Val Loss: 1.0130\n",
      "Train MPJPE: 0.3808  Val MPJPE: 0.5074\n",
      "Finished epoch 78/80 in 1.55s.\n",
      " Loss: 0.6260  Val Loss: 1.0107\n",
      "Train MPJPE: 0.3791  Val MPJPE: 0.5057\n",
      "Finished epoch 79/80 in 1.56s.\n",
      " Loss: 0.6271  Val Loss: 1.0115\n",
      "Train MPJPE: 0.3790  Val MPJPE: 0.5115\n",
      "Finished epoch 80/80 in 1.56s.\n",
      " Loss: 0.6248  Val Loss: 1.0205\n",
      "Train MPJPE: 0.3798  Val MPJPE: 0.5117\n"
     ]
    },
    {
     "data": {
      "application/vnd.jupyter.widget-view+json": {
       "model_id": "2f0c1bae6d8f4176bc0a6ba3935c945c",
       "version_major": 2,
       "version_minor": 0
      },
      "text/plain": [
       "Canvas(toolbar=Toolbar(toolitems=[('Home', 'Reset original view', 'home', 'home'), ('Back', 'Back to previous …"
      ]
     },
     "metadata": {},
     "output_type": "display_data"
    },
    {
     "data": {
      "text/plain": [
       "<matplotlib.legend.Legend at 0x7f53bc2ead10>"
      ]
     },
     "execution_count": 196,
     "metadata": {},
     "output_type": "execute_result"
    }
   ],
   "source": [
    "timer_beg = timer()\n",
    "\n",
    "tr_losses = []\n",
    "val_losses = []\n",
    "\n",
    "model.train()\n",
    "for i in range(NUM_EPOCHS):\n",
    "    # Init the hidden state (ht, ct)\n",
    "    h = model.init_hidden(batch_size)\n",
    "    batch_losses = []\n",
    "    train_MPJPE = []\n",
    "    \n",
    "    if i+1 == NUM_EPOCHS:\n",
    "        preds, inps, labls, lens = [], [], [], []\n",
    "        val_preds, val_inps, val_labls, val_lens = [], [], [], []\n",
    "        iscale, oscale, val_iscale, val_oscale = [], [], [], []\n",
    "        momx, momy, momz = [], [], []\n",
    "        val_momx, val_momy, val_momz = [], [], []\n",
    "        \n",
    "    for inputs, labels, lengths, i_s, o_s, mx, my, mz in train_loader:\n",
    "        h = tuple([e.data for e in h])\n",
    "        inputs, labels, lengths = inputs.to(device), labels.to(device), lengths.to(device)\n",
    "        # Clear the gradients\n",
    "        optimizer.zero_grad()\n",
    "        # Forward step\n",
    "        output, h = model(inputs, h, lengths)\n",
    "        \n",
    "        if i+1 == NUM_EPOCHS:\n",
    "            e = [preds, inps, labls, lens, iscale, oscale, momx, momy, momz]\n",
    "            b = [output, inputs, labels, lengths, i_s, o_s, mx, my, mz]\n",
    "            for k in range(len(e)):\n",
    "                e[k].append(b[k])            \n",
    "\n",
    "        # Loss calculation and backward step\n",
    "        loss = loss_function(nn.utils.rnn.pack_padded_sequence(output, lengths=lengths, batch_first=True, \n",
    "                                                               enforce_sorted=False).data,\n",
    "                             nn.utils.rnn.pack_padded_sequence(labels, lengths=lengths, batch_first=True,\n",
    "                                                               enforce_sorted=False).data)\n",
    "        loss.backward()\n",
    "        # Weight update\n",
    "        optimizer.step()\n",
    "        # One cycle policy step\n",
    "        if one_cycle:\n",
    "            scheduler.step()\n",
    "        \n",
    "        # Output data collection for showing\n",
    "        batch_losses.append(loss.item())\n",
    "        rooted_o, rooted_l = substract_root_PJPE(output), substract_root_PJPE(labels)\n",
    "        train_MPJPE.append(mpjpe(rooted_o, rooted_l, lengths))\n",
    "    \n",
    "    timer_end = timer()\n",
    "    tr_losses.append(np.mean(batch_losses))\n",
    "    writer.add_scalar('Loss/train', tr_losses[-1], i)   \n",
    "    train_MPJPE_total = np.mean(train_MPJPE)\n",
    "    \n",
    "    # Validation at the end of an epoch\n",
    "    val_h = model.init_hidden(batch_size)\n",
    "    model.eval()\n",
    "    val_loss = []\n",
    "    val_MPJPE = []\n",
    "    \n",
    "    for inp, lab, lns, vis, vos, vmx, vmy, vmz in val_loader:\n",
    "        val_h = tuple([each.data for each in val_h])\n",
    "        inp, lab, lns = inp.to(device), lab.to(device), lns.to(device)\n",
    "        out, val_h = model(inp, val_h, lns)\n",
    "        \n",
    "        if i+1 == NUM_EPOCHS:\n",
    "            e = [val_preds, val_inps, val_labls, val_lens, val_iscale, val_oscale, val_momx, val_momy, val_momz]\n",
    "            b = [out, inp, lab, lns, vis, vos, vmx, vmy, vmz]\n",
    "            for k in range(len(e)):\n",
    "                e[k].append(b[k])  \n",
    "        \n",
    "        loss = loss_function(nn.utils.rnn.pack_padded_sequence(out, lengths=lns, batch_first=True,\n",
    "                                                               enforce_sorted=False).data,\n",
    "                             nn.utils.rnn.pack_padded_sequence(lab, lengths=lns, batch_first=True,\n",
    "                                                               enforce_sorted=False).data)\n",
    "        val_loss.append(loss.item())\n",
    "        rooted_o, rooted_l = substract_root_PJPE(out), substract_root_PJPE(lab)\n",
    "        val_MPJPE.append(mpjpe(rooted_o, rooted_l, lns))\n",
    "    \n",
    "    val_losses.append(np.mean(val_loss))\n",
    "    writer.add_scalar('Loss/validation', val_losses[-1], i)  \n",
    "    val_MPJPE_total = np.mean(val_MPJPE)\n",
    "    model.train()\n",
    "    \n",
    "    # Output loss and training time.\n",
    "    print(f\"Finished epoch {i+1}/{NUM_EPOCHS} in {(timer_end-timer_beg):.2f}s.\\n\",\n",
    "             f\"Loss: {np.mean(tr_losses[-1]):.4f}\",\n",
    "             f\" Val Loss: {val_losses[-1]:.4f}\\n\"\n",
    "             f\"Train MPJPE: {train_MPJPE_total:.4f}\", f\" Val MPJPE: {val_MPJPE_total:.4f}\")\n",
    "    timer_beg = timer()\n",
    "\n",
    "plt.figure()\n",
    "plt.plot(tr_losses, label='train')\n",
    "plt.plot(val_losses, label='validation')\n",
    "plt.xlabel('Epoch')\n",
    "plt.ylabel('MSELoss')\n",
    "plt.legend()"
   ]
  },
  {
   "cell_type": "code",
   "execution_count": 197,
   "metadata": {},
   "outputs": [
    {
     "name": "stdout",
     "output_type": "stream",
     "text": [
      "torch.Size([600, 2]) torch.Size([600, 125, 84])\n"
     ]
    }
   ],
   "source": [
    "tr_predictions = torch.cat(tuple(preds), dim=0)\n",
    "tr_inputs = torch.cat(tuple(inps), dim=0)\n",
    "tr_groundtruth = torch.cat(tuple(labls), dim=0)\n",
    "tr_lengths = torch.cat(tuple(lens), dim=0)\n",
    "tr_inp_scale, tr_out_scale = torch.cat(tuple(iscale), dim=0), torch.cat(tuple(oscale), dim=0)\n",
    "tr_mom_x, tr_mom_y, tr_mom_z = torch.cat(tuple(momx), dim=0), torch.cat(tuple(momy), dim=0), torch.cat(tuple(momz), dim=0)\n",
    "print(tr_inp_scale.shape, tr_inputs.shape)\n",
    "\n",
    "val_predictions = torch.cat(tuple(val_preds), dim=0)\n",
    "val_inputs = torch.cat(tuple(val_inps), dim=0)\n",
    "val_groundtruth = torch.cat(tuple(val_labls), dim=0)\n",
    "val_length = torch.cat(tuple(val_lens), dim=0)\n",
    "val_inp_scale, val_out_scale = torch.cat(tuple(val_iscale), dim=0), torch.cat(tuple(val_oscale), dim=0)\n",
    "val_mom_x, val_mom_y, val_mom_z = torch.cat(tuple(val_momx), dim=0), torch.cat(tuple(val_momy), dim=0), torch.cat(tuple(val_momz), dim=0)"
   ]
  },
  {
   "cell_type": "code",
   "execution_count": 198,
   "metadata": {},
   "outputs": [
    {
     "name": "stdout",
     "output_type": "stream",
     "text": [
      "tensor(0.6545, device='cuda:0', grad_fn=<MaxBackward1>) tensor(-0.1224, device='cuda:0', grad_fn=<MinBackward1>)\n"
     ]
    }
   ],
   "source": [
    "print(tr_predictions.max(), tr_predictions.min())"
   ]
  },
  {
   "cell_type": "code",
   "execution_count": 199,
   "metadata": {},
   "outputs": [
    {
     "name": "stdout",
     "output_type": "stream",
     "text": [
      "0/125\n",
      "0/125\n",
      "0/125\n",
      "0/125\n",
      "0/125\n",
      "0/125\n",
      "0/125\n",
      "0/125\n",
      "0/125\n",
      "0/125\n",
      "0/125\n",
      "0/125\n",
      "0/125\n",
      "0/125\n",
      "0/125\n",
      "0/125\n",
      "0/125\n",
      "0/125\n",
      "0/125\n",
      "0/125\n",
      "0/125\n",
      "0/125\n",
      "0/125\n",
      "0/125\n",
      "0/125\n",
      "0/125\n",
      "0/125\n",
      "0/125\n",
      "0/125\n",
      "0/125\n",
      "0/125\n",
      "0/125\n",
      "0/125\n",
      "0/125\n",
      "0/125\n",
      "0/125\n",
      "0/125\n",
      "0/125\n",
      "0/125\n",
      "0/125\n",
      "0/125\n",
      "0/125\n",
      "0/125\n",
      "0/125\n",
      "0/125\n",
      "0/125\n",
      "0/125\n",
      "0/125\n",
      "0/125\n",
      "0/125\n",
      "0/125\n",
      "0/125\n",
      "0/125\n",
      "0/125\n",
      "0/125\n",
      "0/125\n",
      "0/125\n",
      "0/125\n",
      "0/125\n",
      "0/125\n",
      "0/125\n",
      "0/125\n",
      "0/125\n",
      "0/125\n",
      "0/125\n",
      "0/125\n",
      "0/125\n",
      "0/125\n",
      "0/125\n",
      "0/125\n",
      "0/125\n",
      "0/125\n",
      "0/125\n",
      "0/125\n",
      "0/125\n",
      "0/125\n",
      "0/125\n",
      "0/125\n",
      "0/125\n",
      "0/125\n",
      "0/125\n",
      "0/125\n",
      "0/125\n",
      "0/125\n",
      "0/125\n",
      "0/125\n",
      "0/125\n",
      "0/125\n",
      "0/125\n",
      "0/125\n",
      "0/125\n",
      "0/125\n",
      "0/125\n",
      "0/125\n",
      "0/125\n",
      "0/125\n",
      "0/125\n",
      "0/125\n",
      "0/125\n",
      "0/125\n",
      "0/125\n",
      "0/125\n",
      "0/125\n",
      "0/125\n",
      "0/125\n",
      "0/125\n",
      "0/125\n",
      "0/125\n",
      "0/125\n",
      "0/125\n",
      "0/125\n",
      "0/125\n",
      "0/125\n",
      "0/125\n",
      "0/125\n",
      "0/125\n",
      "0/125\n",
      "0/125\n",
      "0/125\n",
      "0/125\n",
      "0/125\n",
      "0/125\n",
      "0/86\n",
      "0/125\n",
      "0/125\n",
      "0/125\n",
      "0/125\n",
      "0/125\n",
      "0/125\n",
      "0/125\n",
      "0/125\n",
      "0/125\n",
      "0/125\n",
      "0/125\n",
      "0/125\n",
      "0/125\n",
      "0/125\n",
      "0/125\n",
      "0/125\n",
      "0/125\n",
      "0/125\n",
      "0/125\n",
      "0/125\n",
      "0/125\n",
      "0/125\n",
      "0/125\n",
      "0/125\n",
      "0/125\n",
      "0/125\n",
      "0/125\n",
      "0/125\n",
      "0/125\n",
      "0/125\n",
      "0/125\n",
      "0/125\n",
      "0/125\n",
      "0/125\n",
      "0/125\n",
      "0/125\n",
      "0/125\n",
      "0/125\n",
      "0/125\n",
      "0/125\n",
      "0/125\n",
      "0/125\n",
      "0/125\n",
      "0/125\n",
      "0/125\n",
      "0/125\n",
      "0/125\n",
      "0/125\n",
      "0/125\n",
      "0/125\n",
      "0/125\n",
      "0/125\n",
      "0/125\n",
      "0/125\n",
      "0/125\n",
      "0/125\n",
      "0/125\n",
      "0/125\n",
      "0/125\n",
      "0/125\n",
      "0/125\n",
      "0/125\n",
      "0/125\n",
      "0/125\n",
      "0/125\n",
      "0/125\n",
      "0/125\n",
      "0/125\n",
      "0/125\n",
      "0/125\n",
      "0/125\n",
      "0/125\n",
      "0/125\n",
      "0/125\n",
      "0/125\n",
      "0/125\n",
      "0/125\n",
      "0/125\n",
      "0/125\n",
      "0/125\n",
      "0/125\n",
      "0/125\n",
      "0/125\n",
      "0/125\n",
      "0/125\n",
      "0/125\n",
      "0/125\n",
      "0/125\n",
      "0/125\n",
      "0/125\n",
      "0/125\n",
      "0/125\n",
      "0/125\n",
      "0/125\n",
      "0/125\n",
      "0/125\n",
      "0/125\n",
      "0/125\n",
      "0/125\n",
      "0/125\n",
      "0/125\n",
      "0/125\n",
      "0/125\n",
      "0/125\n",
      "0/125\n",
      "0/125\n",
      "0/125\n",
      "0/125\n",
      "0/125\n",
      "0/125\n",
      "0/125\n",
      "0/125\n",
      "0/125\n",
      "0/125\n",
      "0/125\n",
      "0/125\n",
      "0/125\n",
      "0/125\n",
      "0/125\n",
      "0/125\n",
      "0/125\n",
      "0/125\n",
      "0/125\n",
      "0/125\n",
      "0/125\n",
      "0/125\n",
      "0/125\n",
      "0/125\n",
      "0/125\n",
      "0/125\n",
      "0/125\n",
      "0/125\n",
      "0/125\n",
      "0/125\n",
      "0/125\n",
      "0/125\n",
      "0/125\n",
      "0/125\n",
      "0/125\n",
      "0/125\n",
      "0/125\n",
      "0/125\n",
      "0/125\n",
      "0/125\n",
      "0/125\n",
      "0/125\n",
      "0/125\n",
      "0/125\n",
      "0/125\n",
      "0/125\n",
      "0/125\n",
      "0/125\n",
      "0/125\n",
      "0/125\n",
      "0/125\n",
      "0/125\n",
      "0/125\n",
      "0/125\n",
      "0/125\n",
      "0/125\n",
      "0/125\n",
      "0/125\n",
      "0/125\n",
      "0/125\n",
      "0/125\n",
      "0/125\n",
      "0/125\n",
      "0/125\n",
      "0/125\n",
      "0/125\n",
      "0/125\n",
      "0/125\n",
      "0/125\n",
      "0/125\n",
      "0/125\n",
      "0/125\n",
      "0/125\n",
      "0/125\n",
      "0/125\n",
      "0/125\n",
      "0/125\n",
      "0/125\n",
      "0/125\n",
      "0/125\n",
      "0/125\n",
      "0/125\n",
      "0/125\n",
      "0/125\n",
      "0/125\n",
      "0/125\n",
      "0/125\n",
      "0/125\n",
      "0/125\n",
      "0/125\n",
      "0/125\n",
      "0/125\n",
      "0/125\n",
      "0/125\n",
      "0/125\n",
      "0/125\n",
      "0/125\n",
      "0/125\n",
      "0/125\n",
      "0/125\n",
      "0/125\n",
      "0/125\n",
      "0/125\n",
      "0/125\n",
      "0/125\n",
      "0/125\n",
      "0/125\n",
      "0/125\n",
      "0/125\n",
      "0/125\n",
      "0/125\n",
      "0/125\n",
      "0/125\n",
      "0/125\n",
      "0/125\n",
      "0/125\n",
      "0/125\n",
      "0/125\n",
      "0/125\n",
      "0/125\n",
      "0/125\n",
      "0/125\n",
      "0/125\n",
      "0/125\n",
      "0/125\n",
      "0/125\n",
      "0/125\n",
      "0/80\n",
      "0/125\n",
      "0/125\n",
      "0/125\n",
      "0/125\n",
      "0/125\n",
      "0/125\n",
      "0/125\n",
      "0/125\n",
      "0/125\n",
      "0/125\n",
      "0/125\n",
      "0/125\n",
      "0/125\n",
      "0/125\n",
      "0/125\n",
      "0/125\n",
      "0/125\n",
      "0/125\n",
      "0/125\n",
      "0/125\n",
      "0/125\n",
      "0/125\n",
      "0/125\n",
      "0/125\n",
      "0/125\n",
      "0/125\n",
      "0/125\n",
      "0/125\n",
      "0/125\n",
      "0/125\n",
      "0/125\n",
      "0/125\n",
      "0/125\n",
      "0/125\n",
      "0/125\n",
      "0/125\n",
      "0/125\n",
      "0/125\n",
      "0/125\n",
      "0/125\n",
      "0/125\n",
      "0/125\n",
      "0/125\n",
      "0/125\n",
      "0/125\n",
      "0/125\n",
      "0/125\n",
      "0/125\n",
      "0/125\n",
      "0/125\n",
      "0/125\n",
      "0/125\n",
      "0/125\n",
      "0/125\n",
      "0/125\n",
      "0/125\n",
      "0/125\n",
      "0/125\n",
      "0/125\n",
      "0/125\n",
      "0/125\n",
      "0/125\n",
      "0/125\n",
      "0/125\n",
      "0/125\n",
      "0/125\n",
      "0/125\n",
      "0/125\n",
      "0/125\n",
      "0/125\n",
      "0/125\n",
      "0/125\n",
      "0/125\n",
      "0/125\n",
      "0/125\n",
      "0/125\n",
      "0/125\n",
      "0/125\n",
      "0/125\n",
      "0/125\n",
      "0/125\n",
      "0/125\n",
      "0/125\n",
      "0/125\n",
      "0/125\n",
      "0/125\n",
      "0/125\n",
      "0/125\n",
      "0/125\n",
      "0/125\n",
      "0/125\n",
      "0/125\n",
      "0/125\n",
      "0/125\n",
      "0/125\n",
      "0/125\n",
      "0/125\n",
      "0/125\n",
      "0/125\n",
      "0/125\n",
      "0/125\n",
      "0/125\n",
      "0/125\n",
      "0/125\n",
      "0/125\n",
      "0/125\n",
      "0/125\n",
      "0/125\n",
      "0/125\n",
      "0/125\n",
      "0/125\n",
      "0/125\n",
      "0/125\n",
      "0/125\n",
      "0/125\n",
      "0/125\n",
      "0/125\n",
      "0/125\n",
      "0/125\n",
      "0/125\n",
      "0/125\n",
      "0/125\n",
      "0/125\n",
      "0/125\n",
      "0/125\n",
      "0/125\n",
      "0/125\n",
      "0/125\n",
      "0/125\n",
      "0/125\n",
      "0/125\n",
      "0/125\n",
      "0/125\n",
      "0/125\n",
      "0/125\n",
      "0/125\n",
      "0/125\n",
      "0/125\n",
      "0/125\n",
      "0/125\n",
      "0/45\n",
      "0/125\n",
      "0/125\n",
      "0/125\n",
      "0/125\n",
      "0/125\n",
      "0/125\n",
      "0/125\n",
      "0/125\n",
      "0/125\n",
      "0/125\n",
      "0/125\n",
      "0/125\n",
      "0/16\n",
      "0/125\n",
      "0/125\n",
      "0/125\n",
      "0/125\n",
      "0/125\n",
      "0/125\n",
      "0/125\n",
      "0/125\n",
      "0/125\n",
      "0/125\n",
      "0/125\n",
      "0/125\n",
      "0/125\n",
      "0/125\n",
      "0/125\n",
      "0/125\n",
      "0/125\n",
      "0/125\n",
      "0/125\n",
      "0/125\n",
      "0/125\n",
      "0/125\n",
      "0/125\n",
      "0/125\n",
      "0/125\n",
      "0/125\n",
      "0/125\n",
      "0/125\n",
      "0/125\n",
      "0/125\n",
      "0/125\n",
      "0/125\n",
      "0/125\n",
      "0/125\n",
      "0/125\n",
      "0/125\n",
      "0/125\n",
      "0/125\n",
      "0/125\n",
      "0/125\n",
      "0/125\n",
      "0/125\n",
      "0/125\n",
      "0/125\n",
      "0/125\n",
      "0/125\n",
      "0/125\n",
      "0/125\n",
      "0/125\n",
      "0/125\n",
      "0/125\n",
      "0/125\n",
      "0/125\n",
      "0/125\n",
      "0/125\n",
      "0/125\n",
      "0/125\n",
      "0/125\n",
      "0/76\n",
      "0/125\n",
      "0/125\n",
      "0/125\n",
      "0/125\n",
      "0/125\n",
      "0/125\n",
      "0/125\n",
      "0/125\n",
      "0/125\n",
      "0/125\n",
      "0/125\n",
      "0/125\n",
      "0/125\n",
      "0/125\n",
      "0/125\n",
      "0/125\n",
      "0/125\n",
      "0/125\n",
      "0/125\n",
      "0/125\n",
      "0/125\n",
      "0/125\n",
      "0/125\n",
      "0/125\n",
      "0/125\n",
      "0/125\n",
      "0/125\n",
      "0/125\n",
      "0/125\n",
      "0/125\n",
      "0/125\n",
      "0/125\n"
     ]
    }
   ],
   "source": [
    "zeros = torch.zeros((42), device='cuda:0')\n",
    "\n",
    "for i in range(len(tr_predictions)):\n",
    "    count=0\n",
    "    for frame in tr_predictions[i, :int(tr_lengths[i])]:\n",
    "        if torch.all(frame.eq(zeros)):\n",
    "            count +=1\n",
    "    print(f'{count}/{int(tr_lengths[i])}')"
   ]
  },
  {
   "cell_type": "code",
   "execution_count": 200,
   "metadata": {},
   "outputs": [
    {
     "name": "stdout",
     "output_type": "stream",
     "text": [
      "0/125\n",
      "0/125\n",
      "0/125\n",
      "0/125\n",
      "0/125\n",
      "0/125\n",
      "0/125\n",
      "0/125\n",
      "0/125\n",
      "0/125\n",
      "0/125\n",
      "0/125\n",
      "0/125\n",
      "0/125\n",
      "0/125\n",
      "0/125\n",
      "0/125\n",
      "0/125\n",
      "0/125\n",
      "0/125\n",
      "0/125\n",
      "0/125\n",
      "0/125\n",
      "0/125\n",
      "0/125\n",
      "0/125\n",
      "0/125\n",
      "0/125\n",
      "0/125\n",
      "0/125\n",
      "0/125\n",
      "0/125\n",
      "0/125\n",
      "0/125\n",
      "0/125\n",
      "0/125\n",
      "0/125\n",
      "0/125\n",
      "0/125\n",
      "0/125\n",
      "0/125\n",
      "0/125\n",
      "0/125\n",
      "0/125\n",
      "0/125\n",
      "0/125\n",
      "0/125\n",
      "0/125\n",
      "0/125\n",
      "0/125\n",
      "0/125\n",
      "0/30\n",
      "0/125\n",
      "0/125\n",
      "0/125\n",
      "0/125\n",
      "0/125\n",
      "0/125\n",
      "0/125\n",
      "0/125\n",
      "0/125\n",
      "0/125\n",
      "0/125\n",
      "0/125\n",
      "0/125\n",
      "0/125\n",
      "0/125\n",
      "0/125\n",
      "0/125\n",
      "0/125\n",
      "0/125\n",
      "0/125\n",
      "0/125\n",
      "0/125\n",
      "0/125\n"
     ]
    }
   ],
   "source": [
    "zeros = torch.zeros((42), device='cuda:0')\n",
    "\n",
    "for i in range(len(val_predictions)):\n",
    "    count=0\n",
    "    for frame in tr_predictions[i, :int(val_length[i])]:\n",
    "        if torch.all(frame.eq(zeros)):\n",
    "            count +=1\n",
    "    print(f'{count}/{int(val_length[i])}')"
   ]
  },
  {
   "cell_type": "code",
   "execution_count": 201,
   "metadata": {},
   "outputs": [],
   "source": [
    "torch.save(model.state_dict(), f'./{name}.pt')"
   ]
  },
  {
   "cell_type": "code",
   "execution_count": 202,
   "metadata": {},
   "outputs": [
    {
     "data": {
      "text/plain": [
       "<All keys matched successfully>"
      ]
     },
     "execution_count": 202,
     "metadata": {},
     "output_type": "execute_result"
    }
   ],
   "source": [
    "model.load_state_dict(torch.load(f'./{name}.pt'))"
   ]
  },
  {
   "cell_type": "markdown",
   "metadata": {},
   "source": [
    "## Testing\n",
    "After the training, we shall proceed with the performance test. This will go through the test batches and perform the inference, then it will show the test loss, as well as the performance metric. In this case, as we are working with human body keypoints, we will use the Mean Per Joint Position Error (MPJPE) metric, which outputs the mean euclidean distance between the joints (keypoints) positions estimated and the ones in the groundtruth.\n",
    "\n",
    "The formula for MPJPE is the following:\n",
    "\n",
    "$\\text{MPJPE} = \\frac1T\\frac1N\\displaystyle\\sum_{t=1}^{T}\\displaystyle\\sum_{i=1}^{N}\\|(J_{i}^{(t)}-J_{root}^{(t)})-(Ĵ_{i}^{(t)}-Ĵ_{root}^{(t)})\\|$\n",
    "\n",
    "Where N is the number of joints, and T the number of samples."
   ]
  },
  {
   "cell_type": "markdown",
   "metadata": {},
   "source": [
    "As we have seen in the formula above, we need to align the root joints of the labels and the network output. In order to do that, I have defined a function (`substract_root_PJPE`) that substracts the root joint of each keypoint set (face, hands, body) in the corresponding keypoint set."
   ]
  },
  {
   "cell_type": "code",
   "execution_count": 203,
   "metadata": {},
   "outputs": [],
   "source": [
    "test_losses = []\n",
    "MPJPE = []\n",
    "h = model.init_hidden(batch_size)\n",
    "preds, inps, labls, lengs = [], [], [], []\n",
    "iscal, oscal = [], []\n",
    "mx, my, mz = [], [], []\n",
    "\n",
    "model.eval()\n",
    "for inputs_test, labels_test, lengths_test, is_test, os_test, mx_test, my_test, mz_test in test_loader:\n",
    "    \n",
    "    h = tuple([each.data for each in h])\n",
    "    inputs_test, labels_test, lengths_test = inputs_test.to(device), labels_test.to(device), lengths_test.to(device)\n",
    "    \n",
    "    output_test, h = model(inputs_test, h, lengths_test)\n",
    "    \n",
    "    e = [preds, inps, labls, lengs, iscal, oscal, mx, my, mz]\n",
    "    b = [output_test, inputs_test, labels_test, lengths_test, is_test, os_test, mx_test, my_test, mz_test]\n",
    "    for k in range(len(e)):\n",
    "        e[k].append(b[k])      \n",
    "    \n",
    "    test_loss = loss_function(nn.utils.rnn.pack_padded_sequence(output_test, lengths=lengths_test, batch_first=True,\n",
    "                                                               enforce_sorted=False).data,\n",
    "                             nn.utils.rnn.pack_padded_sequence(labels_test, lengths=lengths_test, batch_first=True,\n",
    "                                                               enforce_sorted=False).data)\n",
    "    test_losses.append(test_loss.item())\n",
    "    rooted_o, rooted_l = substract_root_PJPE(output_test), substract_root_PJPE(labels_test)\n",
    "    MPJPE.append(mpjpe(rooted_o, rooted_l, lengths_test))\n",
    "\n",
    "test_predictions = torch.cat(tuple(preds), dim=0)\n",
    "test_inputs = torch.cat(tuple(inps), dim=0)\n",
    "test_groundtruth = torch.cat(tuple(labls), dim=0)\n",
    "test_inp_scale, test_out_scale = torch.cat(tuple(iscal), dim=0), torch.cat(tuple(oscal), dim=0)\n",
    "test_mom_x, test_mom_y, test_mom_z = torch.cat(tuple(mx), dim=0), torch.cat(tuple(my), dim=0), torch.cat(tuple(mz), dim=0)\n",
    "MPJPE_total = np.mean(MPJPE)"
   ]
  },
  {
   "cell_type": "code",
   "execution_count": 204,
   "metadata": {},
   "outputs": [
    {
     "name": "stdout",
     "output_type": "stream",
     "text": [
      "MPJPE: 0.6735 \n",
      "Test loss: 1.4290\n"
     ]
    }
   ],
   "source": [
    "print(f\"MPJPE: {MPJPE_total:.4f}\", f\"\\nTest loss: {np.mean(test_losses):.4f}\")"
   ]
  },
  {
   "cell_type": "markdown",
   "metadata": {},
   "source": [
    "### Save the results into a json"
   ]
  },
  {
   "cell_type": "code",
   "execution_count": 110,
   "metadata": {},
   "outputs": [],
   "source": [
    "results = {'train':{'inputs':tr_inputs.tolist(), 'predictions':tr_predictions.tolist(), 'labels':tr_groundtruth.tolist(), 'lengths':tr_lengths.tolist()},\n",
    "          'validation':{'inputs':val_inputs.tolist(), 'predictions':val_predictions.tolist(), 'labels':val_groundtruth.tolist(), 'lengths':val_length.tolist()},\n",
    "          'test':{'inputs':test_inputs.tolist(), 'predictions':test_predictions.tolist(), 'labels':test_groundtruth.tolist(), 'lengths':test_lengths.tolist()}}\n",
    "with open('../../results/small_hands.json', 'w') as fp:\n",
    "    json.dump(results, fp)"
   ]
  },
  {
   "cell_type": "markdown",
   "metadata": {},
   "source": [
    "### Load results from json"
   ]
  },
  {
   "cell_type": "code",
   "execution_count": 3,
   "metadata": {},
   "outputs": [],
   "source": [
    "with open('../../results/small_hands.json', 'r') as j:\n",
    "    jd = json.load(j)\n",
    "    tr, val, test = jd['train'], jd['validation'], jd['test']\n",
    "    tr_inputs, tr_predictions, tr_groundtruth, tr_lengths = tuple(torch.tensor(tr[n]) for n in ['inputs', 'predictions',\n",
    "                                                                                              'labels', 'lengths'])\n",
    "    val_inputs, val_predictions, val_groundtruth, val_length = tuple(torch.tensor(val[n]) for n in ['inputs', 'predictions',\n",
    "                                                                                              'labels', 'lengths'])\n",
    "    test_inputs, test_predictions, test_groundtruth, test_lengths = tuple(torch.tensor(test[n]) for n in ['inputs', 'predictions',\n",
    "                                                                                              'labels', 'lengths'])"
   ]
  },
  {
   "cell_type": "code",
   "execution_count": 4,
   "metadata": {},
   "outputs": [
    {
     "data": {
      "text/plain": [
       "(torch.Size([20, 8752, 84]), torch.Size([8, 8752, 42]), torch.Size([8]))"
      ]
     },
     "execution_count": 4,
     "metadata": {},
     "output_type": "execute_result"
    }
   ],
   "source": [
    "tr_inputs.shape, val_predictions.shape, test_lengths.shape"
   ]
  },
  {
   "cell_type": "markdown",
   "metadata": {},
   "source": [
    "## Interpreation"
   ]
  },
  {
   "cell_type": "markdown",
   "metadata": {},
   "source": [
    "Now to better understanding of the results, I will plot some of the frames from the last batches on the training and validation, and also from testing."
   ]
  },
  {
   "cell_type": "code",
   "execution_count": 205,
   "metadata": {},
   "outputs": [],
   "source": [
    "def plot_and_rotate(c_inputs, c_z, frames, frame):\n",
    "    c_inputs[:,::2].mul_(mom_x[1])\n",
    "    c_inputs[:,1::2].mul_(mom_y[1])\n",
    "    c_z.mul_(stdz)\n",
    "\n",
    "    handsXY = torch.chunk(c_inputs[frames, :], len(frames), dim=0)\n",
    "    handsZ = torch.chunk(c_z[frames, :], len(frames), dim=0)\n",
    "    \n",
    "    x = handsXY[frame].squeeze()[::2]\n",
    "    y = handsXY[frame].squeeze()[1::2]\n",
    "    z = handsZ[frame].squeeze()\n",
    "\n",
    "    rh0 = [[c[i] for i in [0, 1, 2, 3, 4]] for c in [x,y,z]]\n",
    "    rh1 = [[c[i] for i in [0, 5, 6, 7, 8]] for c in [x,y,z]]\n",
    "    rh2 = [[c[i] for i in [0, 9, 10, 11, 12]] for c in [x,y,z]]\n",
    "    rh3 = [[c[i] for i in [0, 13, 14, 15, 16]] for c in [x,y,z]]\n",
    "    rh4 = [[c[i] for i in [0, 17, 18, 19, 20]] for c in [x,y,z]]\n",
    "    lh0 = [[c[i+21] for i in [0, 1, 2, 3, 4]] for c in [x,y,z]]\n",
    "    lh1 = [[c[i+21] for i in [0, 5, 6, 7, 8]] for c in [x,y,z]]\n",
    "    lh2 = [[c[i+21] for i in [0, 9, 10, 11, 12]] for c in [x,y,z]]\n",
    "    lh3 = [[c[i+21] for i in [0, 13, 14, 15, 16]] for c in [x,y,z]]\n",
    "    lh4 = [[c[i+21] for i in [0, 17, 18, 19, 20]] for c in [x,y,z]]\n",
    "\n",
    "\n",
    "    fig = plt.figure()\n",
    "    ax = fig.add_subplot(111, projection='3d')\n",
    "    def init():\n",
    "        ax.plot(rh0[0], rh0[2], rh0[1])\n",
    "        ax.plot(rh1[0], rh1[2], rh1[1])\n",
    "        ax.plot(rh2[0], rh2[2], rh2[1])\n",
    "        ax.plot(rh3[0], rh3[2], rh3[1])\n",
    "        ax.plot(rh4[0], rh4[2], rh4[1])\n",
    "        \n",
    "        ax.plot(lh0[0], lh0[2], lh0[1])\n",
    "        ax.plot(lh1[0], lh1[2], lh1[1])\n",
    "        ax.plot(lh2[0], lh2[2], lh2[1])\n",
    "        ax.plot(lh3[0], lh3[2], lh3[1])\n",
    "        ax.plot(lh4[0], lh4[2], lh4[1])\n",
    "        \n",
    "        lims = ax.get_xlim(), ax.get_ylim(), ax.get_zlim()\n",
    "        spans = lims[0][1]-lims[0][0], lims[1][1]-lims[1][0], lims[2][1]-lims[2][0]\n",
    "        span = max(spans)\n",
    "        margins = [(span-s)/2 for  s in spans]\n",
    "        ax.set_xlim(lims[0][0]-margins[0], lims[0][1]+margins[0])\n",
    "        ax.set_ylim(lims[1][0]-margins[1], lims[1][1]+margins[1])\n",
    "        ax.set_zlim(lims[2][0]-margins[2], lims[2][1]+margins[2])\n",
    "\n",
    "        return fig,\n",
    "\n",
    "    def animate(i):\n",
    "        ax.view_init(elev=220., azim=3.6*i)\n",
    "        return fig,\n",
    "\n",
    "    # Animate\n",
    "    ani = animation.FuncAnimation(fig, animate, init_func=init,\n",
    "                               frames=100, interval=100, blit=True)    \n",
    "\n",
    "    return ani"
   ]
  },
  {
   "cell_type": "code",
   "execution_count": 206,
   "metadata": {},
   "outputs": [],
   "source": [
    "def plot_frames(predictions, groundtruth, inputs, video_n, frames, rot, train=False):\n",
    "    \n",
    "    inp = inputs.clone()\n",
    "    preds = predictions.clone()\n",
    "    grtr = groundtruth.clone()\n",
    "    \n",
    "    handsXY = torch.chunk(inp[video_n, frames, :], len(frames), dim=0)\n",
    "    pred_handsZ = torch.chunk(preds[video_n, frames, :], len(frames), dim=0)\n",
    "    true_handsZ = torch.chunk(grtr[video_n, frames, :], len(frames), dim=0)\n",
    "   \n",
    "    nrows = np.ceil(len(frames)/2)\n",
    "    fig = plt.figure(figsize=(15, 6*nrows))\n",
    "    fig2 = plt.figure(figsize=(15, 6*nrows))\n",
    "    for frame in range(len(frames)):\n",
    "        x = handsXY[frame].squeeze()[::2].tolist()\n",
    "        y = handsXY[frame].squeeze()[1::2].tolist()\n",
    "        pred_z = pred_handsZ[frame].squeeze().tolist()\n",
    "        true_z = true_handsZ[frame].squeeze().tolist()\n",
    "        \n",
    "        r = R.from_euler('y', rot, degrees=True)\n",
    "        \n",
    "        xyz1, xyz2 = np.asarray([c for c in zip(x, y, pred_z)]), np.asarray([c for c in zip(x, y, true_z)])\n",
    "        xyz1, xyz2 = r.apply(xyz1), r.apply(xyz2)\n",
    "        x1, x2 = xyz1[:,0], xyz2[:,0]\n",
    "        y1, y2 = xyz1[:,1], xyz2[:,1]\n",
    "        pred_z, true_z = xyz1[:,2], xyz2[:,2]\n",
    "        if not train:\n",
    "            x1 = x1*((x2.max()-x2.min())/(x1.max()-x1.min()))\n",
    "        \n",
    "        rh0 = tuple([[c[i] for i in [0, 1, 2, 3, 4]] for c in l] for l in [[x1, y1, pred_z], [x2, y2, true_z]])\n",
    "        rh1 = tuple([[c[i] for i in [0, 5, 6, 7, 8]] for c in l] for l in [[x1, y1, pred_z], [x2, y2, true_z]])\n",
    "        rh2 = tuple([[c[i] for i in [0, 9, 10, 11, 12]] for c in l] for l in [[x1, y1, pred_z], [x2, y2, true_z]])\n",
    "        rh3 = tuple([[c[i] for i in [0, 13, 14, 15, 16]] for c in l] for l in [[x1, y1, pred_z], [x2, y2, true_z]])\n",
    "        rh4 = tuple([[c[i] for i in [0, 17, 18, 19, 20]] for c in l] for l in [[x1, y1, pred_z], [x2, y2, true_z]])\n",
    "        lh0 = tuple([[c[i+21] for i in [0, 1, 2, 3, 4]] for c in l] for l in [[x1, y1, pred_z], [x2, y2, true_z]])\n",
    "        lh1 = tuple([[c[i+21] for i in [0, 5, 6, 7, 8]] for c in l] for l in [[x1, y1, pred_z], [x2, y2, true_z]])\n",
    "        lh2 = tuple([[c[i+21] for i in [0, 9, 10, 11, 12]] for c in l] for l in [[x1, y1, pred_z], [x2, y2, true_z]])\n",
    "        lh3 = tuple([[c[i+21] for i in [0, 13, 14, 15, 16]] for c in l] for l in [[x1, y1, pred_z], [x2, y2, true_z]])\n",
    "        lh4 = tuple([[c[i+21] for i in [0, 17, 18, 19, 20]] for c in l] for l in [[x1, y1, pred_z], [x2, y2, true_z]])\n",
    "        \n",
    "        ax = fig.add_subplot(nrows, 2, frame+1, projection='3d')\n",
    "\n",
    "        ax.plot(rh0[0][0], rh0[0][2], rh0[0][1])\n",
    "        ax.plot(rh1[0][0], rh1[0][2], rh1[0][1])\n",
    "        ax.plot(rh2[0][0], rh2[0][2], rh2[0][1])\n",
    "        ax.plot(rh3[0][0], rh3[0][2], rh3[0][1])\n",
    "        ax.plot(rh4[0][0], rh4[0][2], rh4[0][1])\n",
    "        \n",
    "        ax.plot(lh0[0][0], lh0[0][2], lh0[0][1])\n",
    "        ax.plot(lh1[0][0], lh1[0][2], lh1[0][1])\n",
    "        ax.plot(lh2[0][0], lh2[0][2], lh2[0][1])\n",
    "        ax.plot(lh3[0][0], lh3[0][2], lh3[0][1])\n",
    "        ax.plot(lh4[0][0], lh4[0][2], lh4[0][1])\n",
    "        \n",
    "        ax2 = fig2.add_subplot(nrows, 2, frame+1, projection='3d')\n",
    "        ax2.plot(rh0[1][0], rh0[1][2], rh0[1][1])\n",
    "        ax2.plot(rh1[1][0], rh1[1][2], rh1[1][1])\n",
    "        ax2.plot(rh2[1][0], rh2[1][2], rh2[1][1])\n",
    "        ax2.plot(rh3[1][0], rh3[1][2], rh3[1][1])\n",
    "        ax2.plot(rh4[1][0], rh4[1][2], rh4[1][1])\n",
    "        \n",
    "        ax2.plot(lh0[1][0], lh0[1][2], lh0[1][1])\n",
    "        ax2.plot(lh1[1][0], lh1[1][2], lh1[1][1])\n",
    "        ax2.plot(lh2[1][0], lh2[1][2], lh2[1][1])\n",
    "        ax2.plot(lh3[1][0], lh3[1][2], lh3[1][1])\n",
    "        ax2.plot(lh4[1][0], lh4[1][2], lh4[1][1])\n",
    "        \n",
    "        lims = ax.get_xlim(), ax.get_ylim(), ax.get_zlim()\n",
    "        spans = lims[0][1]-lims[0][0], lims[1][1]-lims[1][0], lims[2][1]-lims[2][0]\n",
    "        span = max(spans)\n",
    "        margins = [(span-s)/2 for  s in spans]\n",
    "        ax.set_xlim(lims[0][0]-margins[0], lims[0][1]+margins[0])\n",
    "        ax.set_ylim(lims[1][0]-margins[1], lims[1][1]+margins[1])\n",
    "        ax.set_zlim(lims[2][0]-margins[2], lims[2][1]+margins[2])\n",
    "        \n",
    "        lims2 = ax2.get_xlim(), ax2.get_ylim(), ax2.get_zlim()\n",
    "        spans2 = lims2[0][1]-lims2[0][0], lims2[1][1]-lims2[1][0], lims2[2][1]-lims2[2][0]\n",
    "        span2 = max(spans2)\n",
    "        margins2 = [(span2-s)/2 for  s in spans2]\n",
    "        ax2.set_xlim(lims2[0][0]-margins2[0], lims2[0][1]+margins2[0])\n",
    "        ax2.set_ylim(lims2[1][0]-margins2[1], lims2[1][1]+margins2[1])\n",
    "        ax2.set_zlim(lims2[2][0]-margins2[2], lims2[2][1]+margins2[2])\n",
    "\n",
    "        ax.view_init(elev=-65., azim=-90.)\n",
    "        ax2.view_init(elev=-65., azim=-90.)\n"
   ]
  },
  {
   "cell_type": "markdown",
   "metadata": {},
   "source": [
    "### Single frame\n",
    "On the first cell you can select which frames you want to plot and from which video of the batch. On the second you select which frame of the previosly selected you want to plot, specifying its index on the declared \"frames\" list."
   ]
  },
  {
   "cell_type": "code",
   "execution_count": null,
   "metadata": {},
   "outputs": [],
   "source": [
    "# Last batches of training -output, inputs, labels-.\n",
    "vid = 1\n",
    "frames = [100]\n",
    "\n",
    "c_inputs = training_kp[vid].clone()\n",
    "c_labels = training_lbl[vid].clone()\n",
    "c_inputs[:,::2].mul_(training_inpscale[vid, 0])\n",
    "c_inputs[:,1::2].mul_(training_inpscale[vid, 1])\n",
    "c_labels.mul_(training_outscale[vid])"
   ]
  },
  {
   "cell_type": "code",
   "execution_count": null,
   "metadata": {},
   "outputs": [],
   "source": [
    "HTML(plot_and_rotate(c_inputs, c_output, frames, 0).to_html5_video())"
   ]
  },
  {
   "cell_type": "code",
   "execution_count": null,
   "metadata": {},
   "outputs": [],
   "source": [
    "c_inputs = tr_inputs[vid].clone()\n",
    "HTML(plot_and_rotate(c_inputs, c_labels, frames, 0).to_html5_video())"
   ]
  },
  {
   "cell_type": "markdown",
   "metadata": {},
   "source": [
    "We repeat the same process for the last test batch."
   ]
  },
  {
   "cell_type": "markdown",
   "metadata": {},
   "source": [
    "### Slice of frames\n",
    "Now let's plot a sequence of frames of the selected video. We will plot both the groundtruth and the predicted."
   ]
  },
  {
   "cell_type": "code",
   "execution_count": 211,
   "metadata": {},
   "outputs": [],
   "source": [
    "frames = [i for i in range(1,9,2)]\n",
    "video_n = 59\n",
    "\n",
    "c_inputs = tr_inputs.clone()\n",
    "c_output = tr_predictions.clone()\n",
    "c_labels = tr_groundtruth.clone()\n",
    "\n",
    "for vid in range(c_labels.shape[0]): \n",
    "    c_inputs[vid,:,::2].mul_(tr_inp_scale[vid, 0])\n",
    "    c_inputs[vid,:,1::2].mul_(tr_inp_scale[vid, 1])\n",
    "    c_output[vid].mul_(tr_out_scale[vid])\n",
    "    c_labels[vid].mul_(tr_out_scale[vid])\n",
    "    \n",
    "    c_inputs[vid,:,::2].mul_(tr_mom_x[vid, 1])\n",
    "    c_inputs[vid,:,1::2].mul_(tr_mom_y[vid, 1])\n",
    "    c_output[vid].mul_(tr_mom_z[vid])\n",
    "    c_labels[vid].mul_(tr_mom_z[vid])\n"
   ]
  },
  {
   "cell_type": "code",
   "execution_count": 212,
   "metadata": {},
   "outputs": [
    {
     "data": {
      "application/vnd.jupyter.widget-view+json": {
       "model_id": "99ee05d188cf418eab5634baa3bf0cc3",
       "version_major": 2,
       "version_minor": 0
      },
      "text/plain": [
       "Canvas(toolbar=Toolbar(toolitems=[('Home', 'Reset original view', 'home', 'home'), ('Back', 'Back to previous …"
      ]
     },
     "metadata": {},
     "output_type": "display_data"
    },
    {
     "data": {
      "application/vnd.jupyter.widget-view+json": {
       "model_id": "b30429c07b074e38a7e1363070c96b55",
       "version_major": 2,
       "version_minor": 0
      },
      "text/plain": [
       "Canvas(toolbar=Toolbar(toolitems=[('Home', 'Reset original view', 'home', 'home'), ('Back', 'Back to previous …"
      ]
     },
     "metadata": {},
     "output_type": "display_data"
    }
   ],
   "source": [
    "plot_frames(c_output, c_labels, c_inputs, video_n, frames, -90, True)"
   ]
  },
  {
   "cell_type": "code",
   "execution_count": 217,
   "metadata": {},
   "outputs": [],
   "source": [
    "frames = [i for i in range(1,9,2)]\n",
    "video_n = 23\n",
    "\n",
    "c_inputs = test_inputs.clone()\n",
    "c_output = test_predictions.clone()\n",
    "c_labels = test_groundtruth.clone()\n",
    "\n",
    "for vid in range(c_labels.shape[0]): \n",
    "    c_inputs[vid,:,::2].mul_(test_inp_scale[vid, 0])\n",
    "    c_inputs[vid,:,1::2].mul_(test_inp_scale[vid, 1])\n",
    "    c_output[vid].mul_(test_out_scale[vid])\n",
    "    c_labels[vid].mul_(test_out_scale[vid])\n",
    "    \n",
    "    c_inputs[vid,:,::2].mul_(test_mom_x[vid, 1])\n",
    "    c_inputs[:,:,1::2].mul_(test_mom_y[vid, 1])\n",
    "    c_output[vid].mul_(test_mom_z[vid])\n",
    "    c_labels[vid].mul_(test_mom_z[vid])\n"
   ]
  },
  {
   "cell_type": "code",
   "execution_count": 218,
   "metadata": {},
   "outputs": [
    {
     "data": {
      "application/vnd.jupyter.widget-view+json": {
       "model_id": "0df772772c71431fb71aedba54597545",
       "version_major": 2,
       "version_minor": 0
      },
      "text/plain": [
       "Canvas(toolbar=Toolbar(toolitems=[('Home', 'Reset original view', 'home', 'home'), ('Back', 'Back to previous …"
      ]
     },
     "metadata": {},
     "output_type": "display_data"
    },
    {
     "data": {
      "application/vnd.jupyter.widget-view+json": {
       "model_id": "071531698b274d5c82399b09d87ff412",
       "version_major": 2,
       "version_minor": 0
      },
      "text/plain": [
       "Canvas(toolbar=Toolbar(toolitems=[('Home', 'Reset original view', 'home', 'home'), ('Back', 'Back to previous …"
      ]
     },
     "metadata": {},
     "output_type": "display_data"
    }
   ],
   "source": [
    "plot_frames(c_output, c_labels, c_inputs, video_n, frames, -90)"
   ]
  },
  {
   "cell_type": "code",
   "execution_count": 155,
   "metadata": {},
   "outputs": [],
   "source": [
    "plt.close('all')"
   ]
  },
  {
   "cell_type": "code",
   "execution_count": null,
   "metadata": {},
   "outputs": [],
   "source": []
  },
  {
   "cell_type": "code",
   "execution_count": 143,
   "metadata": {},
   "outputs": [],
   "source": [
    "frames = [i for i in range(1,9,2)]\n",
    "video_n = 13\n",
    "\n",
    "c_inputs = val_inputs.clone()\n",
    "c_output = val_predictions.clone()\n",
    "c_labels = val_groundtruth.clone()\n",
    "\n",
    "for vid in range(c_labels.shape[0]): \n",
    "    c_inputs[vid,:,::2].mul_(val_inp_scale[vid, 0])\n",
    "    c_inputs[vid,:,1::2].mul_(val_inp_scale[vid, 1])\n",
    "    c_output[vid].mul_(val_out_scale[vid])\n",
    "    c_labels[vid].mul_(val_out_scale[vid])\n",
    "    \n",
    "    c_inputs[vid,:,::2].mul_(val_mom_x[vid, 1])\n",
    "    c_inputs[:,:,1::2].mul_(val_mom_y[vid, 1])\n",
    "    c_output[vid].mul_(val_mom_z[vid])\n",
    "    c_labels[vid].mul_(val_mom_z[vid])\n"
   ]
  },
  {
   "cell_type": "code",
   "execution_count": 144,
   "metadata": {},
   "outputs": [
    {
     "data": {
      "application/vnd.jupyter.widget-view+json": {
       "model_id": "e595d60046c4498fa73b7d9ab644055e",
       "version_major": 2,
       "version_minor": 0
      },
      "text/plain": [
       "Canvas(toolbar=Toolbar(toolitems=[('Home', 'Reset original view', 'home', 'home'), ('Back', 'Back to previous …"
      ]
     },
     "metadata": {},
     "output_type": "display_data"
    },
    {
     "data": {
      "application/vnd.jupyter.widget-view+json": {
       "model_id": "340bd9bc75c9441d99dac8ebbd684a2b",
       "version_major": 2,
       "version_minor": 0
      },
      "text/plain": [
       "Canvas(toolbar=Toolbar(toolitems=[('Home', 'Reset original view', 'home', 'home'), ('Back', 'Back to previous …"
      ]
     },
     "metadata": {},
     "output_type": "display_data"
    }
   ],
   "source": [
    "plot_frames(c_output, c_labels, c_inputs, video_n, frames, -90)"
   ]
  },
  {
   "cell_type": "code",
   "execution_count": null,
   "metadata": {},
   "outputs": [],
   "source": []
  }
 ],
 "metadata": {
  "kernelspec": {
   "display_name": "Python 3",
   "language": "python",
   "name": "python3"
  },
  "language_info": {
   "codemirror_mode": {
    "name": "ipython",
    "version": 3
   },
   "file_extension": ".py",
   "mimetype": "text/x-python",
   "name": "python",
   "nbconvert_exporter": "python",
   "pygments_lexer": "ipython3",
   "version": "3.7.4"
  }
 },
 "nbformat": 4,
 "nbformat_minor": 4
}
