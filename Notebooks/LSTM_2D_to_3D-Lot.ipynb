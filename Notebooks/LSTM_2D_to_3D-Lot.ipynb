{
 "cells": [
  {
   "cell_type": "markdown",
   "metadata": {},
   "source": [
    "# 2D to 3D LSTM\n",
    "\n",
    "This is the first approach to try to estimate 3D points coordinates from 2D keypoints extracted with Openpose. Here I will build a simple LSTM to perform the task over the Panoptic Studio dataset."
   ]
  },
  {
   "cell_type": "markdown",
   "metadata": {},
   "source": [
    "First, let's import all the necessary libraries."
   ]
  },
  {
   "cell_type": "code",
   "execution_count": 1,
   "metadata": {},
   "outputs": [],
   "source": [
    "# Pytorch utilities\n",
    "import torch\n",
    "import torch.nn as nn\n",
    "import torch.nn.functional as F\n",
    "import numpy as np\n",
    "import torch.optim as optim\n",
    "from torch.utils.data import TensorDataset, DataLoader\n",
    "# Plotting utilities\n",
    "import matplotlib\n",
    "%matplotlib inline\n",
    "import matplotlib.pyplot as plt\n",
    "from torch.utils.tensorboard import SummaryWriter\n",
    "from timeit import default_timer as timer\n",
    "import pyprind\n",
    "\n",
    "# Directory and file utilities\n",
    "from os import listdir\n",
    "from os.path import isfile, isdir, join\n",
    "import json"
   ]
  },
  {
   "cell_type": "markdown",
   "metadata": {},
   "source": [
    "## Data acquisition\n",
    "Now I will define some functions in order to parse and organise the data, and later convert it to pytorch tensors."
   ]
  },
  {
   "cell_type": "markdown",
   "metadata": {},
   "source": [
    "The data is structured as follows: in the dataset directory there are several folders, each folder corresponds to a recording; each of these folders contains a folder with the audio, folders with face, hands and body keypoints estimations for each frame, and a folder with the video recorded from different views.\n",
    "\n",
    "In this first approach I will be using the keypoints estimations. Every keypoint folder (face, hands or body) is organized the same way: it contains a json per frame of the video, which includes the 3D keypoints estimation."
   ]
  },
  {
   "cell_type": "markdown",
   "metadata": {},
   "source": [
    "The function `get_keypoints` will go through each folder in the dataset directory and retrieve the face keypoints, the hands keypoints and the body keypoints. It will separate them into input (2D coordinates per joint per frame) and grountruth (third coordinate to estimate for each input 2D keypoint). \n",
    "The input will be of shape $([n videos, seq len, input size])$, where *seq_len* = number of frames, and *input_size* = face + hands + body keypoints, that is (70+(21+21)+26)x2 -multiplied by 2 because there are x and y coordinates-. The groundtruth (label) data will be of the same shape, except that the last dimension size will not be multiplied by 2 (there's only one coordinate to estimate).  "
   ]
  },
  {
   "cell_type": "code",
   "execution_count": 2,
   "metadata": {},
   "outputs": [],
   "source": [
    "def get_keypoints(data_path):\n",
    "    dataset = []\n",
    "    groundtruth = []\n",
    "    # Look over just the folders inside the directory\n",
    "    just_folders = filter(lambda x: isdir(join(data_path, x)), listdir(data_path))\n",
    "    for p in list(map(lambda x: join(data_path, x), just_folders)): \n",
    "        # Gets 2 list of n_frames lists, one for the 2D coordinates and one for the third coordinate.\n",
    "        # Each list of the n_frames lists contains, either the (x and y) or the z of each keypoint for the face(first line), hands(second), body(third).\n",
    "        # e.g. the first line will result in [[x1,y1,x2,y2...x70,y70]sub1...[x1,y1...x70,y70]subN], [[z1,z2...z70]sub1...[z1..z70]subN]\n",
    "        # Actually, as there will be two of each list above because there are two people en each video.\n",
    "        face_2d, face_3d = get_face(p)\n",
    "        hands_2d, hands_3d = get_hands(p)\n",
    "        pose_2d, pose_3d = get_body(p)\n",
    "        \n",
    "        # Concatenates the coordinates for the face, hands and body on the last dimension, for each person.\n",
    "        vid_input_p1, vid_input_p2 = ([fa+ha+po for fa, ha, po in zip(face_2d[i], hands_2d[i], pose_2d[i])] for i in range(2))\n",
    "        vid_labels_p1, vid_labels_p2 = ([fa+ha+po for fa, ha, po in zip(face_3d[i], hands_3d[i], pose_3d[i])] for i in range(2))\n",
    "        \n",
    "        dataset.append(vid_input_p1)\n",
    "        dataset.append(vid_input_p2)\n",
    "        groundtruth.append(vid_labels_p1)\n",
    "        groundtruth.append(vid_labels_p2)\n",
    "        print(f'Completed folder {p}')\n",
    "    return dataset, groundtruth"
   ]
  },
  {
   "cell_type": "markdown",
   "metadata": {},
   "source": [
    "The following functions are in charge of retrieving the keypoints from each json. The json face json has a key *people* with a list of person objects. Each person object has *id* field and *landmarks* field, the latter containing a list of 3D coordinates for each keypoint."
   ]
  },
  {
   "cell_type": "code",
   "execution_count": 3,
   "metadata": {},
   "outputs": [],
   "source": [
    "def get_face(path):\n",
    "    face_2D_seq = ([], [])\n",
    "    face_3D_seq = ([], [])\n",
    "    # List only the files (json), for there might be folders containing invalid frames.\n",
    "    paths = map(lambda x: join(path, 'hdFace3d', x), sorted(listdir(join(path, 'hdFace3d'))))\n",
    "    files = list(filter(lambda x: isfile(x), paths))\n",
    "    for f in files[1:]: # The first frame of face keypoints estimation it's blank\n",
    "        with open(f, 'r') as j:\n",
    "            json_array = json.load(j)\n",
    "            i = 0\n",
    "            for person in json_array['people']:\n",
    "                if person['id'] != -1: # If the id is -1, it means there's no person\n",
    "                    x = person['face70']['landmarks'][::3]\n",
    "                    y = person['face70']['landmarks'][1::3]\n",
    "                    two_coord = [l[item] for item in range(len(x)) for l in [x,y]]\n",
    "                    third_coord = person['face70']['landmarks'][2::3]\n",
    "                    face_2D_seq[i].append(two_coord)\n",
    "                    face_3D_seq[i].append(third_coord)\n",
    "                    i+=1\n",
    "            if i<2: # In case there was only one person detected on a frame\n",
    "                face_2D_seq[i].append([0. for i in range(140)])\n",
    "                face_3D_seq[i].append([0. for i in range(70)])\n",
    "    print('Face completed.')\n",
    "    # Each return var being a tuple with the list of n_frames list of coordinates for each person\n",
    "    return face_2D_seq, face_3D_seq"
   ]
  },
  {
   "cell_type": "markdown",
   "metadata": {},
   "source": [
    "The hands json contains the *landmarks* field inside both *left_hand* and *right_hand* field. As there are some frames that may not have one of the hands estimated, I've had to put some exception handling. "
   ]
  },
  {
   "cell_type": "code",
   "execution_count": 4,
   "metadata": {},
   "outputs": [],
   "source": [
    "def get_hands(path):\n",
    "    hand_2D_seq = ([], [])\n",
    "    hand_3D_seq = ([], [])\n",
    "    paths = map(lambda x: join(path, 'hdHand3d', x), sorted(listdir(join(path, 'hdHand3d'))))\n",
    "    files = list(filter(lambda x: isfile(x), paths))\n",
    "    for f in files[1:-1]: # The first and the last frames of these folders are blank.\n",
    "        with open(f, 'r') as j:\n",
    "            json_array = json.load(j)\n",
    "            i = 0\n",
    "            for person in json_array['people']:\n",
    "                if person['id'] != -1:\n",
    "                    try:\n",
    "                        # Separate x,y from z\n",
    "                        hands= [[person[hand]['landmarks'][c] \n",
    "                                 for c in range(len(person['right_hand']['landmarks'])) if (c+1)%3!=0] \n",
    "                                 for hand in ['left_hand', 'right_hand']]\n",
    "                        hand_2D_seq[i].append(hands[0]+hands[1])\n",
    "                        \n",
    "                        hands_3d = [person[hand]['landmarks'][2::3] \n",
    "                                    for hand in ['left_hand', 'right_hand']]\n",
    "                        hand_3D_seq[i].append(hands_3d[0]+hands_3d[1])\n",
    "                    \n",
    "                    except Exception as e: # In case left_hand or right_hand keys don't exist.\n",
    "                        if 'left_hand' in str(e): \n",
    "                            try: # Just put a 0., 0., 0. estimation for each keypoint of the left_hand\n",
    "                                hands = [0. for i in range(42)]+[person['right_hand']['landmarks'][c] \n",
    "                                                                 for c in range(len(person['right_hand']['landmarks'])) if (c+1)%3!=0]\n",
    "                                hands_3d = [0. for i in range(21)]+person['right_hand']['landmarks'][2::3]\n",
    "                            except: # In case neither left_hand nor right_hand exist\n",
    "                                hands = [0. for i in range(84)]\n",
    "                                hands_3d = [0. for i in range(42)]\n",
    "                        elif 'right_hand' in str(e): # Just put a 0., 0., 0. estimation for each keypoint of the right_hand\n",
    "                            hands = [person['left_hand']['landmarks'][c] \n",
    "                                     for c in range(len(person['left_hand']['landmarks'])) if (c+1)%3!=0]+[0. for i in range(42)]\n",
    "                            hands_3d = person['left_hand']['landmarks'][2::3]+[0. for i in range(21)]\n",
    "\n",
    "                        hand_2D_seq[i].append(hands)\n",
    "                        hand_3D_seq[i].append(hands_3d)\n",
    "                    i+=1\n",
    "            if i<2:\n",
    "                hand_2D_seq[i].append([0. for i in range(84)])\n",
    "                hand_3D_seq[i].append([0. for i in range(42)])\n",
    "    print('Hands completed.')\n",
    "    return hand_2D_seq, hand_3D_seq"
   ]
  },
  {
   "cell_type": "markdown",
   "metadata": {},
   "source": [
    "The body json is organised a bit differently, inside each person object contains the *joints26* field with a list of 3D coordinates. But this list is structured as follows: *[x1,y1,z1,acc1,x2,y2,z2,acc2...]*."
   ]
  },
  {
   "cell_type": "code",
   "execution_count": 5,
   "metadata": {},
   "outputs": [],
   "source": [
    "def get_body(path):\n",
    "    body_2D_seq = ([], [])\n",
    "    body_3D_seq = ([], [])\n",
    "    paths = map(lambda x: join(path, 'hdPose3d_stage1_op25', x), sorted(listdir(join(path, 'hdPose3d_stage1_op25'))))\n",
    "    files = list(filter(lambda x: isfile(x), paths))\n",
    "    for f in files[:-1]:\n",
    "        with open(f, 'r') as j:\n",
    "            json_array = json.load(j)\n",
    "            i = 0\n",
    "            for person in json_array['bodies']:\n",
    "                if person['id'] != -1:\n",
    "                    x = person['joints26'][::4]\n",
    "                    y = person['joints26'][1::4]\n",
    "                    two_coord = [l[item] for item in range(len(x)) for l in [x,y]]\n",
    "                    third_coord = person['joints26'][2::4]\n",
    "                    body_2D_seq[i].append(two_coord)\n",
    "                    body_3D_seq[i].append(third_coord)\n",
    "                    i += 1\n",
    "            if i<2:\n",
    "                body_2D_seq[i].append([0. for i in range(52)])\n",
    "                body_3D_seq[i].append([0. for i in range(26)])\n",
    "    print('Body completed.')\n",
    "    return body_2D_seq, body_3D_seq"
   ]
  },
  {
   "cell_type": "code",
   "execution_count": 6,
   "metadata": {},
   "outputs": [
    {
     "name": "stdout",
     "output_type": "stream",
     "text": [
      "Face completed.\n",
      "Hands completed.\n",
      "Body completed.\n",
      "Completed folder ../../../data/DB keypoints/190419_asl2\n",
      "Face completed.\n",
      "Hands completed.\n",
      "Body completed.\n",
      "Completed folder ../../../data/DB keypoints/190419_asl4\n",
      "Face completed.\n",
      "Hands completed.\n",
      "Body completed.\n",
      "Completed folder ../../../data/DB keypoints/190419_asl5\n",
      "Face completed.\n",
      "Hands completed.\n",
      "Body completed.\n",
      "Completed folder ../../../data/DB keypoints/190425_asl1\n",
      "Face completed.\n",
      "Hands completed.\n",
      "Body completed.\n",
      "Completed folder ../../../data/DB keypoints/190425_asl2\n",
      "Face completed.\n",
      "Hands completed.\n",
      "Body completed.\n",
      "Completed folder ../../../data/DB keypoints/190425_asl3\n",
      "Face completed.\n",
      "Hands completed.\n",
      "Body completed.\n",
      "Completed folder ../../../data/DB keypoints/190425_asl5\n",
      "Face completed.\n",
      "Hands completed.\n",
      "Body completed.\n",
      "Completed folder ../../../data/DB keypoints/190425_asl7\n",
      "Face completed.\n",
      "Hands completed.\n",
      "Body completed.\n",
      "Completed folder ../../../data/DB keypoints/190425_asl9\n",
      "Face completed.\n",
      "Hands completed.\n",
      "Body completed.\n",
      "Completed folder ../../../data/DB keypoints/190425_asl91\n"
     ]
    }
   ],
   "source": [
    "data_path = '../../../data/DB keypoints'\n",
    "dataset, groundtruth = get_keypoints(data_path)"
   ]
  },
  {
   "cell_type": "markdown",
   "metadata": {},
   "source": [
    "## Dataset structuring\n",
    "Now let's convert the lists obtained to Pytorch tensors and organise them in train, validation and test datasets. \n",
    "First, I will define a padding function in order to make all the sequences of video frames the same length, so I can train the LSTM in batches. "
   ]
  },
  {
   "cell_type": "code",
   "execution_count": 7,
   "metadata": {},
   "outputs": [
    {
     "data": {
      "text/plain": [
       "8751"
      ]
     },
     "execution_count": 7,
     "metadata": {},
     "output_type": "execute_result"
    }
   ],
   "source": [
    "def padding_seq(dataset):\n",
    "    max_seq = max([len(x) for x in dataset])\n",
    "    for seq in dataset:\n",
    "        for i in range(max_seq-len(seq)):\n",
    "            seq.append([np.nan for j in range(len(seq[0]))])\n",
    "    return max_seq\n",
    "\n",
    "max_seq = padding_seq(dataset)\n",
    "padding_seq(groundtruth)"
   ]
  },
  {
   "cell_type": "code",
   "execution_count": 8,
   "metadata": {},
   "outputs": [
    {
     "name": "stdout",
     "output_type": "stream",
     "text": [
      "(20, 8751, 276) (20, 8751, 138)\n"
     ]
    }
   ],
   "source": [
    "# From python lists to numpy ndarray.\n",
    "dataset = np.asarray(dataset)\n",
    "groundtruth = np.asarray(groundtruth)\n",
    "print(dataset.shape, groundtruth.shape)"
   ]
  },
  {
   "cell_type": "markdown",
   "metadata": {},
   "source": [
    "For each axis I normalize the keypoints using the following formula:"
   ]
  },
  {
   "cell_type": "code",
   "execution_count": 9,
   "metadata": {},
   "outputs": [],
   "source": [
    "def normalize(tensor, coordinates=1):\n",
    "    mean_value = [np.nanmean(tensor[:, :,i::coordinates]) for i in range(coordinates)]\n",
    "    std_value = [np.nanstd(tensor[:, :,i::coordinates]) for i in range(coordinates)]\n",
    "    for j in range(coordinates):\n",
    "        subtensor = tensor[:, :, j::coordinates]\n",
    "        subtensor[:] = np.subtract(subtensor, mean_value[j])\n",
    "        subtensor[:] = np.divide(subtensor, std_value[j])\n",
    "  \n",
    "    return [(mean_value[i], std_value[i]) for i in range(coordinates)]\n",
    "\n",
    "_ = normalize(dataset, 2)\n",
    "mz, stdz = normalize(groundtruth)[0]"
   ]
  },
  {
   "cell_type": "code",
   "execution_count": 10,
   "metadata": {},
   "outputs": [
    {
     "name": "stdout",
     "output_type": "stream",
     "text": [
      "torch.Size([20, 8751, 276]) torch.Size([20, 8751, 138])\n"
     ]
    }
   ],
   "source": [
    "# From python lists to pytorch tensors.\n",
    "dataset = torch.tensor(np.nan_to_num(dataset), dtype=torch.float32)\n",
    "groundtruth = torch.tensor(np.nan_to_num(groundtruth), dtype=torch.float32)\n",
    "print(dataset.shape, groundtruth.shape)"
   ]
  },
  {
   "cell_type": "code",
   "execution_count": 11,
   "metadata": {},
   "outputs": [
    {
     "name": "stdout",
     "output_type": "stream",
     "text": [
      "torch.Size([12, 8751, 276]) torch.Size([4, 8751, 276]) torch.Size([4, 8751, 276])\n",
      "torch.Size([12, 8751, 138]) torch.Size([4, 8751, 138]) torch.Size([4, 8751, 138])\n"
     ]
    }
   ],
   "source": [
    "l1, l2 = len(dataset), len(groundtruth)\n",
    "# Split in train, validation and test\n",
    "training_kp, val_kp, test_kp = dataset[:round(0.60*l1)], dataset[round(0.60*l1):round(0.80*l1)], dataset[round(0.80*l1):]\n",
    "training_lbl, val_lbl, test_lbl = groundtruth[:round(0.60*l2)], groundtruth[round(0.60*l2):round(0.80*l2)], groundtruth[round(0.80*l2):]\n",
    "print(training_kp.shape, val_kp.shape, test_kp.shape)\n",
    "print(training_lbl.shape, val_lbl.shape, test_lbl.shape)"
   ]
  },
  {
   "cell_type": "markdown",
   "metadata": {},
   "source": [
    "Finally we define the batch_size and put the datasets in DataLoaders."
   ]
  },
  {
   "cell_type": "code",
   "execution_count": 12,
   "metadata": {},
   "outputs": [
    {
     "name": "stdout",
     "output_type": "stream",
     "text": [
      "<torch.utils.data.dataloader.DataLoader object at 0x7f84e6b76d10>\n"
     ]
    }
   ],
   "source": [
    "train_data = TensorDataset(training_kp, training_lbl)\n",
    "val_data = TensorDataset(val_kp, val_lbl)\n",
    "test_data = TensorDataset(test_kp, test_lbl)\n",
    "\n",
    "batch_size = 2\n",
    "\n",
    "train_loader = DataLoader(train_data, shuffle=True, batch_size=batch_size)\n",
    "val_loader = DataLoader(val_data, shuffle=True, batch_size=batch_size)\n",
    "test_loader = DataLoader(test_data, shuffle=True, batch_size=batch_size)\n",
    "\n",
    "print(train_loader)"
   ]
  },
  {
   "cell_type": "markdown",
   "metadata": {},
   "source": [
    "If we have a GPU available we set our device to GPU."
   ]
  },
  {
   "cell_type": "code",
   "execution_count": 13,
   "metadata": {},
   "outputs": [
    {
     "name": "stdout",
     "output_type": "stream",
     "text": [
      "GPU is available\n"
     ]
    }
   ],
   "source": [
    "# torch.cuda.is_available() checks and returns a Boolean True if a GPU is available, else it'll return False\n",
    "is_cuda = torch.cuda.is_available()\n",
    "\n",
    "# If we have a GPU available, we'll set our device to GPU. We'll use this device variable later in our code.\n",
    "if is_cuda:\n",
    "    device = torch.device(\"cuda\")\n",
    "    print(\"GPU is available\")\n",
    "else:\n",
    "    device = torch.device(\"cpu\")\n",
    "    print(\"GPU not available, CPU used\")"
   ]
  },
  {
   "cell_type": "markdown",
   "metadata": {},
   "source": [
    "Let's print some examples to see whether it is loaded correctly or not."
   ]
  },
  {
   "cell_type": "code",
   "execution_count": 14,
   "metadata": {},
   "outputs": [
    {
     "name": "stdout",
     "output_type": "stream",
     "text": [
      "torch.Size([2, 8751, 276]) torch.Size([2, 8751, 138])\n"
     ]
    }
   ],
   "source": [
    "dataiter = iter(train_loader)\n",
    "sample_x, sample_y = dataiter.next()\n",
    "\n",
    "print(sample_x.shape, sample_y.shape)"
   ]
  },
  {
   "cell_type": "markdown",
   "metadata": {},
   "source": [
    "## Model building\n",
    "It is time to build the model for this approach. It will consist on a single/double layer LSTM followed by a Linear layer with output size the number of keypoints we want to estimate. I also define a method to initialize the hidden_state of the cell."
   ]
  },
  {
   "cell_type": "code",
   "execution_count": 15,
   "metadata": {},
   "outputs": [],
   "source": [
    "class LSTM_2D3D(nn.Module):\n",
    "    \n",
    "    def __init__(self, input_size, output_size, hidden_dim, n_layers):\n",
    "        super().__init__()\n",
    "        # Save the model parameters\n",
    "        self.output_size = output_size\n",
    "        self.n_layers = n_layers\n",
    "        self.hidden_dim = hidden_dim\n",
    "        \n",
    "        # Define the architecture\n",
    "        self.lstm = nn.LSTM(input_size, hidden_dim, n_layers, batch_first=True)\n",
    "        self.fc = nn.Sequential(\n",
    "            nn.Linear(hidden_dim, output_size),\n",
    "            nn.ReLU()\n",
    "        )\n",
    "        \n",
    "    def forward(self, x, state):\n",
    "        # Describe the forward step\n",
    "        batch_size, seq_len = x.size(0), x.size(1) # We save the batch size and the sequence length\n",
    "        ht, hidden_state = self.lstm(x, state)\n",
    "        ht = ht.contiguous().view(-1, self.hidden_dim) # Need to flatten and reshape the output to feed it to the Linear layer\n",
    "        ot = self.fc(ht)\n",
    "        ot = ot.view(batch_size, seq_len, -1) # Reshape the output for it to be torch.Size([batch_size, seq_len, output_size])\n",
    "        return ot, hidden_state\n",
    "    \n",
    "    def init_hidden(self, batch_size):\n",
    "        weight = next(self.parameters()).data\n",
    "        hidden = (weight.new(self.n_layers, batch_size, self.hidden_dim).zero_().to(device),\n",
    "                      weight.new(self.n_layers, batch_size, self.hidden_dim).zero_().to(device))\n",
    "        return hidden"
   ]
  },
  {
   "cell_type": "code",
   "execution_count": 52,
   "metadata": {},
   "outputs": [
    {
     "name": "stdout",
     "output_type": "stream",
     "text": [
      "LSTM_2D3D(\n",
      "  (lstm): LSTM(276, 512, batch_first=True)\n",
      "  (fc): Sequential(\n",
      "    (0): Linear(in_features=512, out_features=138, bias=True)\n",
      "    (1): ReLU()\n",
      "  )\n",
      ")\n"
     ]
    }
   ],
   "source": [
    "# Define some model parameters\n",
    "INPUT_SIZE = sample_x.size(2)\n",
    "OUTPUT_SIZE = sample_y.size(2)\n",
    "HIDDEN_DIM = 512\n",
    "N_LAYERS = 1\n",
    "\n",
    "# Instantiate the model\n",
    "model = LSTM_2D3D(INPUT_SIZE, OUTPUT_SIZE, HIDDEN_DIM, N_LAYERS)\n",
    "model.to(device)\n",
    "print(model)"
   ]
  },
  {
   "cell_type": "markdown",
   "metadata": {},
   "source": [
    "## Training\n",
    "Now we will proceed with the training. The first cell will define the learning rate, the loss function and the selected optimizer for the training process. Then we will proceed with a training over a number of epochs in which we will print it's training loss and validation loss. I also will be using Tensorboard to have a much nicer view of the results."
   ]
  },
  {
   "cell_type": "code",
   "execution_count": 53,
   "metadata": {},
   "outputs": [],
   "source": [
    "def substract_root_PJPE(output):\n",
    "    jf = torch.chunk(output[:, :, :70], max_seq, dim=1)\n",
    "    jhl, jhr = torch.chunk(output[:, :, 70:91], max_seq, dim=1), torch.chunk(output[:, :, 91:112], max_seq, dim=1)\n",
    "    jb = torch.chunk(output[:, :, 112:], max_seq, dim=1)\n",
    "    joints_merged = []\n",
    "    roots = [33, 0, 0, 8]\n",
    "    for i, joints in enumerate((jf, jhl, jhr, jb)):\n",
    "        n_joints = []\n",
    "        for chunk in joints:\n",
    "            n_joints.append(chunk.sub(chunk[:,:,roots[i]].unsqueeze(2)))\n",
    "        joints_merged.append(torch.cat(tuple(n_joints), dim=1))\n",
    "    joints_merged = torch.cat(tuple(joints_merged), dim=2)\n",
    "    return joints_merged"
   ]
  },
  {
   "cell_type": "code",
   "execution_count": 54,
   "metadata": {},
   "outputs": [],
   "source": [
    "lr = 2e-3\n",
    "loss_function = nn.MSELoss()\n",
    "optimizer = optim.Adam(model.parameters(), lr=lr)"
   ]
  },
  {
   "cell_type": "code",
   "execution_count": 55,
   "metadata": {},
   "outputs": [],
   "source": [
    "from datetime import datetime\n",
    "name = 'lot_whole'\n",
    "writer = SummaryWriter(log_dir=f'/deeplearning/logs/{name}{datetime.now()}_lr-{lr}')"
   ]
  },
  {
   "cell_type": "code",
   "execution_count": 56,
   "metadata": {},
   "outputs": [
    {
     "name": "stdout",
     "output_type": "stream",
     "text": [
      "Finished epoch 1/15 in 19.92s.\n",
      " Loss: 0.6672  Val Loss: 0.4677\n",
      "Train MPJPE: 17.0641  Val MPJPE: 15.4075\n",
      "Finished epoch 2/15 in 19.57s.\n",
      " Loss: 0.6204  Val Loss: 0.4167\n",
      "Train MPJPE: 14.2447  Val MPJPE: 11.5941\n",
      "Finished epoch 3/15 in 19.59s.\n",
      " Loss: 0.5447  Val Loss: 0.4047\n",
      "Train MPJPE: 9.9340  Val MPJPE: 7.7367\n",
      "Finished epoch 4/15 in 19.73s.\n",
      " Loss: 0.5221  Val Loss: 0.3848\n",
      "Train MPJPE: 8.8557  Val MPJPE: 6.0024\n",
      "Finished epoch 5/15 in 19.58s.\n",
      " Loss: 0.5132  Val Loss: 0.3798\n",
      "Train MPJPE: 7.1857  Val MPJPE: 6.4461\n",
      "Finished epoch 6/15 in 19.59s.\n",
      " Loss: 0.5047  Val Loss: 0.3871\n",
      "Train MPJPE: 7.1330  Val MPJPE: 4.7031\n",
      "Finished epoch 7/15 in 19.73s.\n",
      " Loss: 0.5064  Val Loss: 0.3865\n",
      "Train MPJPE: 5.9341  Val MPJPE: 6.0496\n",
      "Finished epoch 8/15 in 19.64s.\n",
      " Loss: 0.5044  Val Loss: 0.3764\n",
      "Train MPJPE: 6.9667  Val MPJPE: 4.6279\n",
      "Finished epoch 9/15 in 19.63s.\n",
      " Loss: 0.5121  Val Loss: 0.3985\n",
      "Train MPJPE: 5.8182  Val MPJPE: 5.6342\n",
      "Finished epoch 10/15 in 19.58s.\n",
      " Loss: 0.4994  Val Loss: 0.3769\n",
      "Train MPJPE: 6.4923  Val MPJPE: 4.7529\n",
      "Finished epoch 11/15 in 19.43s.\n",
      " Loss: 0.4994  Val Loss: 0.3806\n",
      "Train MPJPE: 5.4743  Val MPJPE: 5.0417\n",
      "Finished epoch 12/15 in 19.63s.\n",
      " Loss: 0.4953  Val Loss: 0.3742\n",
      "Train MPJPE: 5.9687  Val MPJPE: 4.8186\n",
      "Finished epoch 13/15 in 19.71s.\n",
      " Loss: 0.4941  Val Loss: 0.3735\n",
      "Train MPJPE: 4.9647  Val MPJPE: 4.2264\n",
      "Finished epoch 14/15 in 19.61s.\n",
      " Loss: 0.4954  Val Loss: 0.3814\n",
      "Train MPJPE: 5.1680  Val MPJPE: 4.2368\n",
      "Finished epoch 15/15 in 19.69s.\n",
      " Loss: 0.5025  Val Loss: 0.3710\n",
      "Train MPJPE: 4.7608  Val MPJPE: 4.3321\n"
     ]
    },
    {
     "data": {
      "text/plain": [
       "<matplotlib.legend.Legend at 0x7f8488f3fe90>"
      ]
     },
     "execution_count": 56,
     "metadata": {},
     "output_type": "execute_result"
    },
    {
     "data": {
      "image/png": "[encoded data removed]",
      "text/plain": [
       "<Figure size 432x288 with 1 Axes>"
      ]
     },
     "metadata": {
      "needs_background": "light"
     },
     "output_type": "display_data"
    }
   ],
   "source": [
    "NUM_EPOCHS = 15\n",
    "train_its = int(np.ceil(training_kp.size(0)/batch_size))\n",
    "timer_beg = timer()\n",
    "tr_losses = []\n",
    "\n",
    "val_losses = []\n",
    "\n",
    "model.train()\n",
    "for i in range(NUM_EPOCHS):\n",
    "    # Init the hidden state (ht, ct)\n",
    "    h = model.init_hidden(batch_size)\n",
    "    batch_losses = []\n",
    "    train_MPJPE = []\n",
    "    for inputs, labels in train_loader:\n",
    "        h = tuple([e.data for e in h])\n",
    "        inputs, labels = inputs.to(device), labels.to(device)\n",
    "        # Clear the gradients\n",
    "        optimizer.zero_grad()\n",
    "        # Forward step\n",
    "        output, h = model(inputs, h)\n",
    "        # Loss calculation and backward step\n",
    "        loss = loss_function(output, labels.float())\n",
    "        loss.backward()\n",
    "        # Weight update\n",
    "        optimizer.step()\n",
    "        \n",
    "        # Output data collection for showing\n",
    "        batch_losses.append(loss.item())\n",
    "        rooted_o, rooted_l = substract_root_PJPE(output), substract_root_PJPE(labels)\n",
    "        train_MPJPE.append(rooted_o.sub(rooted_l).abs().mean().item())\n",
    "    timer_end = timer()\n",
    "    tr_losses.append(np.mean(batch_losses))\n",
    "    writer.add_scalar('Loss/train', tr_losses[-1], i)   \n",
    "    train_MPJPE_total = np.mean(train_MPJPE)\n",
    "    \n",
    "    # Validation at the end of an epoch\n",
    "    val_h = model.init_hidden(batch_size)\n",
    "    model.eval()\n",
    "    val_loss = []\n",
    "    val_MPJPE = []\n",
    "    for inp, lab in val_loader:\n",
    "        val_h = tuple([each.data for each in val_h])\n",
    "        inp, lab = inp.to(device), lab.to(device)\n",
    "        out, val_h = model(inp, val_h)\n",
    "        val_loss.append(loss_function(out, lab.float()).item())\n",
    "        rooted_o, rooted_l = substract_root_PJPE(out), substract_root_PJPE(lab)\n",
    "        val_MPJPE.append(rooted_o.sub(rooted_l).abs().mean().item())\n",
    "    val_losses.append(np.mean(val_loss))\n",
    "    writer.add_scalar('Loss/validation', val_losses[-1], i)  \n",
    "    val_MPJPE_total = np.mean(val_MPJPE)\n",
    "    model.train()\n",
    "    \n",
    "    # Output loss and training time.\n",
    "    print(f\"Finished epoch {i+1}/{NUM_EPOCHS} in {(timer_end-timer_beg):.2f}s.\\n\",\n",
    "             f\"Loss: {np.mean(tr_losses[-1]):.4f}\",\n",
    "             f\" Val Loss: {val_losses[-1]:.4f}\\n\"\n",
    "             f\"Train MPJPE: {train_MPJPE_total*stdz:.4f}\", f\" Val MPJPE: {val_MPJPE_total*stdz:.4f}\")\n",
    "    timer_beg = timer()\n",
    "\n",
    "plt.plot(tr_losses, label='train')\n",
    "plt.plot(val_losses, label='validation')\n",
    "plt.xlabel('Epoch')\n",
    "plt.ylabel('MSELoss')\n",
    "plt.legend()"
   ]
  },
  {
   "cell_type": "code",
   "execution_count": 57,
   "metadata": {},
   "outputs": [
    {
     "name": "stdout",
     "output_type": "stream",
     "text": [
      "448\n",
      "479\n"
     ]
    }
   ],
   "source": [
    "zeros = torch.zeros(138, device='cuda:0')\n",
    "count=0\n",
    "for frame in output[0]:\n",
    "    if torch.all(frame.eq(zeros)):\n",
    "        count +=1\n",
    "print(count)\n",
    "count=0\n",
    "for frame in labels[0]:\n",
    "    if torch.all(frame.eq(zeros)):\n",
    "        count +=1\n",
    "print(count)"
   ]
  },
  {
   "cell_type": "code",
   "execution_count": 58,
   "metadata": {},
   "outputs": [
    {
     "name": "stdout",
     "output_type": "stream",
     "text": [
      "85.69433449454347\n"
     ]
    }
   ],
   "source": [
    "print(stdz)"
   ]
  },
  {
   "cell_type": "code",
   "execution_count": 59,
   "metadata": {},
   "outputs": [],
   "source": [
    "torch.save(model.state_dict(), f'./{name}.pt')"
   ]
  },
  {
   "cell_type": "code",
   "execution_count": 60,
   "metadata": {},
   "outputs": [
    {
     "data": {
      "text/plain": [
       "<All keys matched successfully>"
      ]
     },
     "execution_count": 60,
     "metadata": {},
     "output_type": "execute_result"
    }
   ],
   "source": [
    "model.load_state_dict(torch.load(f'./{name}.pt'))"
   ]
  },
  {
   "cell_type": "markdown",
   "metadata": {},
   "source": [
    "## Testing\n",
    "After the training, we shall proceed with the performance test. This will go through the test batches and perform the inference, then it will show the test loss, as well as the performance metric. In this case, as we are working with human body keypoints, we will use the Mean Per Joint Position Error (MPJPE) metric, which outputs the mean euclidean distance between the joints (keypoints) positions estimated and the ones in the groundtruth.\n",
    "\n",
    "The formula for MPJPE is the following:\n",
    "\n",
    "$\\text{MPJPE} = \\frac1T\\frac1N\\displaystyle\\sum_{t=1}^{T}\\displaystyle\\sum_{i=1}^{N}\\|(J_{i}^{(t)}-J_{root}^{(t)})-(Ĵ_{i}^{(t)}-Ĵ_{root}^{(t)})\\|$\n",
    "\n",
    "Where N is the number of joints, and T the number of samples."
   ]
  },
  {
   "cell_type": "markdown",
   "metadata": {},
   "source": [
    "As we have seen in the formula above, we need to align the root joints of the labels and the network output. In order to do that, I have defined a function (`substract_root_PJPE`) that substracts the root joint of each keypoint set (face, hands, body) in the corresponding keypoint set."
   ]
  },
  {
   "cell_type": "code",
   "execution_count": 61,
   "metadata": {},
   "outputs": [],
   "source": [
    "test_losses = []\n",
    "MPJPE = []\n",
    "h = model.init_hidden(batch_size)\n",
    "\n",
    "model.eval()\n",
    "for inputs, labels in test_loader:\n",
    "    h = tuple([each.data for each in h])\n",
    "    inputs, labels = inputs.to(device), labels.to(device)\n",
    "    output, h = model(inputs, h)\n",
    "    test_loss = loss_function(output, labels.float())\n",
    "    test_losses.append(test_loss.item())\n",
    "    rooted_o, rooted_l = substract_root_PJPE(output), substract_root_PJPE(labels)\n",
    "    MPJPE.append(rooted_o.sub(rooted_l).abs().mean().item())\n",
    "MPJPE_total = np.mean(MPJPE)"
   ]
  },
  {
   "cell_type": "code",
   "execution_count": 62,
   "metadata": {},
   "outputs": [
    {
     "name": "stdout",
     "output_type": "stream",
     "text": [
      "MPJPE: 4.2109 \n",
      "Test loss: 0.4047\n"
     ]
    }
   ],
   "source": [
    "print(f\"MPJPE: {MPJPE_total*stdz:.4f}\", f\"\\nTest loss: {np.mean(test_losses):.4f}\")"
   ]
  },
  {
   "cell_type": "code",
   "execution_count": null,
   "metadata": {},
   "outputs": [],
   "source": []
  }
 ],
 "metadata": {
  "kernelspec": {
   "display_name": "Python 3",
   "language": "python",
   "name": "python3"
  },
  "language_info": {
   "codemirror_mode": {
    "name": "ipython",
    "version": 3
   },
   "file_extension": ".py",
   "mimetype": "text/x-python",
   "name": "python",
   "nbconvert_exporter": "python",
   "pygments_lexer": "ipython3",
   "version": "3.7.4"
  }
 },
 "nbformat": 4,
 "nbformat_minor": 4
}
