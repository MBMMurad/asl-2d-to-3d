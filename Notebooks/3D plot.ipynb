{
 "cells": [
  {
   "cell_type": "markdown",
   "metadata": {},
   "source": [
    "# Plot 3D skeleton"
   ]
  },
  {
   "cell_type": "code",
   "execution_count": 1,
   "metadata": {},
   "outputs": [],
   "source": [
    "import matplotlib\n",
    "%matplotlib inline\n",
    "import matplotlib.pyplot as plt\n",
    "from mpl_toolkits.mplot3d import Axes3D\n",
    "from IPython.display import HTML\n",
    "import matplotlib.animation as animation"
   ]
  },
  {
   "cell_type": "code",
   "execution_count": 2,
   "metadata": {},
   "outputs": [],
   "source": [
    "frame_body1 = [-75.6609, -152.289, 83.9039, 0.644165, -61.8919, -162.281, 86.7817, 0.545837, -75.453, -85.6591, 83.0066, 0.465027, -83.8537, -143.507, 100.608, 0.638062, -84.6132, -114.56, 108.637, 0.439453, -62.25, -123.554, 107.256, 0.388855, -80.6746, -84.1698, 93.9625, 0.412598, -84.8189, -47.1328, 96.7677, 0.549805, -92.2964, -7.98565, 101.807, 0.665955, -72.4301, -144.187, 65.8156, 0.651306, -61.5399, -116.469, 61.6948, 0.625488, -51.2056, -135.482, 75.9026, 0.545288, -70.2314, -87.1483, 72.0507, 0.455627, -69.4057, -50.9197, 65.4869, 0.574585, -70.4635, -9.53244, 56.0944, 0.598694, -65.1917, -164.495, 90.3545, 0.361572, -75.9756, -164.2, 92.0133, 0.25824, -63.3538, -165.836, 83.642, 0.514282, -71.0874, -166.1, 76.6877, 0.627136, -81.6932, -2.78651, 115.827, 0.504028, -84.3892, -5.26321, 116.456, 0.479309, -94.4026, -3.63109, 98.6228, 0.552734, -50.5423, -4.06589, 57.5918, 0.486328, -55.7791, -3.89029, 52.3702, 0.507324, -73.5728, -5.62509, 54.8346, 0.50885, -67.6823, -179.593, 86.381, 0.6875]\n",
    "frame_body2 = [-3.7092, -144.277, -91.4663, 0.602356, 9.8247, -156.346, -88.8281, 0.505188, -2.7997, -87.2447, -87.9131, 0.481567, -8.14416, -140.492, -77.3472, 0.543274, 5.93496, -119.786, -66.7075, 0.46936, 25.297, -133.955, -69.2729, 0.538757, -5.61088, -88.0988, -78.1014, 0.450012, -6.57606, -48.6764, -77.9599, 0.555908, -10.2711, -12.407, -78.4741, 0.69574, -1.31228, -136.241, -105.779, 0.491577, 19.2683, -116.548, -102.986, 0.40387, 31.2472, -133.931, -90.9958, 0.549133, 0.0114661, -86.3908, -97.7247, 0.450806, -1.12097, -47.3047, -97.9992, 0.560791, -2.37674, -10.6794, -99.6658, 0.666382, 7.53895, -159.376, -86.5258, 0.501587, -0.779786, -157.752, -83.8987, 0.407471, 9.28096, -159.359, -92.5822, 0.343872, 3.15474, -157.678, -99.0018, 0.22406, 6.18436, -4.5232, -73.631, 0.55304, -0.632237, -4.43953, -71.4285, 0.572083, -13.427, -7.66426, -80.3213, 0.640137, 13.2756, -3.8841, -96.7197, 0.408569, 11.7462, -5.57468, -101.239, 0.436157, -5.52799, -6.40339, -99.3227, 0.51123, 4.2023, -171.473, -91.8198, 0.615479]\n",
    "x1 = frame_body1[::4] \n",
    "y1 = frame_body1[1::4] \n",
    "z1 = frame_body1[2::4]\n",
    "x2 = frame_body2[::4] \n",
    "y2 = frame_body2[1::4] \n",
    "z2 = frame_body2[2::4]"
   ]
  },
  {
   "cell_type": "code",
   "execution_count": 3,
   "metadata": {},
   "outputs": [],
   "source": [
    "l_arm = [[[c[i] for i in [1, 0, 9, 10, 11]] for c in l] for l in [[x1,y1,z1],[x2,y2,z2]]]\n",
    "r_arm = [[[c[i] for i in [0, 3, 4, 5]] for c in l] for l in [[x1,y1,z1],[x2,y2,z2]]]\n",
    "l_leg = [[[c[i] for i in [0, 2, 12, 13, 14, 22, 23, 24]] for c in l] for l in [[x1,y1,z1],[x2,y2,z2]]]\n",
    "r_leg = [[[c[i] for i in [2, 6, 7, 8, 19, 20, 21]] for c in l] for l in [[x1,y1,z1],[x2,y2,z2]]]\n",
    "head = [[[c[i] for i in [18, 17, 1, 15, 16]] for c in l] for l in [[x1,y1,z1],[x2,y2,z2]]]"
   ]
  },
  {
   "cell_type": "code",
   "execution_count": 4,
   "metadata": {},
   "outputs": [
    {
     "data": {
      "text/plain": [
       "[<matplotlib.lines.Line2D at 0x7f1babd4ea50>]"
      ]
     },
     "execution_count": 4,
     "metadata": {},
     "output_type": "execute_result"
    },
    {
     "data": {
      "image/png": "[encoded data removed]",
      "text/plain": [
       "<Figure size 432x288 with 1 Axes>"
      ]
     },
     "metadata": {
      "needs_background": "light"
     },
     "output_type": "display_data"
    }
   ],
   "source": [
    "plt.plot(r_arm[0][2], r_arm[0][1])\n",
    "plt.plot(l_arm[0][2], l_arm[0][1])\n",
    "plt.plot(r_leg[0][2], r_leg[0][1])\n",
    "plt.plot(l_leg[0][2], l_leg[0][1])\n",
    "plt.plot(head[0][2], head[0][1])"
   ]
  },
  {
   "cell_type": "code",
   "execution_count": null,
   "metadata": {},
   "outputs": [],
   "source": [
    "fig = plt.figure()\n",
    "ax = fig.add_subplot(111, projection='3d')\n",
    "def init():\n",
    "    ax.plot(r_arm[0][0], r_arm[0][2], r_arm[0][1])\n",
    "    ax.plot(l_arm[0][0], l_arm[0][2], l_arm[0][1])\n",
    "    ax.plot(r_leg[0][0], r_leg[0][2], r_leg[0][1])\n",
    "    ax.plot(l_leg[0][0], l_leg[0][2], l_leg[0][1])\n",
    "    ax.plot(head[0][0], head[0][2], head[0][1])\n",
    "    ax.plot(r_arm[1][0], r_arm[1][2], r_arm[1][1])\n",
    "    ax.plot(l_arm[1][0], l_arm[1][2], l_arm[1][1])\n",
    "    ax.plot(r_leg[1][0], r_leg[1][2], r_leg[1][1])\n",
    "    ax.plot(l_leg[1][0], l_leg[1][2], l_leg[1][1])\n",
    "    ax.plot(head[1][0], head[1][2], head[1][1])\n",
    "    \n",
    "    return fig,\n",
    "\n",
    "def animate(i):\n",
    "    ax.view_init(elev=220., azim=3.6*i)\n",
    "    return fig,\n",
    "\n",
    "# Animate\n",
    "ani = animation.FuncAnimation(fig, animate, init_func=init,\n",
    "                               frames=100, interval=100, blit=True)    \n",
    "\n",
    "HTML(ani.to_html5_video())"
   ]
  },
  {
   "cell_type": "code",
   "execution_count": null,
   "metadata": {},
   "outputs": [],
   "source": []
  },
  {
   "cell_type": "code",
   "execution_count": null,
   "metadata": {},
   "outputs": [],
   "source": []
  }
 ],
 "metadata": {
  "kernelspec": {
   "display_name": "Python 3",
   "language": "python",
   "name": "python3"
  },
  "language_info": {
   "codemirror_mode": {
    "name": "ipython",
    "version": 3
   },
   "file_extension": ".py",
   "mimetype": "text/x-python",
   "name": "python",
   "nbconvert_exporter": "python",
   "pygments_lexer": "ipython3",
   "version": "3.7.4"
  }
 },
 "nbformat": 4,
 "nbformat_minor": 4
}
