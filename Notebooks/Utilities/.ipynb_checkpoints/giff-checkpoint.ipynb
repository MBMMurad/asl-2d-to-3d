{
 "cells": [
  {
   "cell_type": "markdown",
   "metadata": {},
   "source": [
    "# Code to produce giffs with the selected results"
   ]
  },
  {
   "cell_type": "markdown",
   "metadata": {},
   "source": [
    "Can be done for either of the models."
   ]
  },
  {
   "cell_type": "code",
   "execution_count": 2,
   "metadata": {},
   "outputs": [],
   "source": [
    "# Pytorch utilities\n",
    "import torch\n",
    "import torch.nn as nn\n",
    "import torch.nn.functional as F\n",
    "import numpy as np\n",
    "import torch.optim as optim\n",
    "from torch.utils.data import TensorDataset, DataLoader\n",
    "\n",
    "from scipy.spatial.transform import Rotation as R\n",
    "#from sklearn.linear_model import LinearRegression\n",
    "#from sklearn.preprocessing import PolynomialFeatures\n",
    "#from sklearn.pipeline import make_pipeline\n",
    "import imageio\n",
    "\n",
    "# Plotting utilities\n",
    "%matplotlib widget\n",
    "import matplotlib\n",
    "import matplotlib.pyplot as plt\n",
    "from mpl_toolkits.mplot3d import Axes3D\n",
    "from IPython.display import HTML\n",
    "import matplotlib.animation as animation\n",
    "from torch.utils.tensorboard import SummaryWriter\n",
    "from timeit import default_timer as timer\n",
    "import pyprind\n",
    "\n",
    "# Directory and file utilities\n",
    "from os import listdir\n",
    "from os.path import isfile, isdir, join\n",
    "import json"
   ]
  },
  {
   "cell_type": "code",
   "execution_count": 2,
   "metadata": {},
   "outputs": [],
   "source": [
    "with open('../../results/small_body_S.json', 'r') as j:\n",
    "    jd = json.load(j)\n",
    "    tr, val, test = jd['train'], jd['validation'], jd['test']\n",
    "    tr_inputs, tr_predictions, tr_groundtruth, tr_lengths, tr_inp_scale, tr_out_scale, tr_mx, tr_my, tr_mz = tuple(torch.tensor(tr[n]) for n in ['inputs', 'predictions',\n",
    "                                                                                              'labels', 'lengths',\n",
    "                                                                                               'is', 'os', 'mx', 'my', 'mz'])\n",
    "    val_inputs, val_predictions, val_groundtruth, val_length, val_inp_scale, val_out_scale, val_mx, val_my, val_mz = tuple(torch.tensor(val[n]) for n in ['inputs', 'predictions',\n",
    "                                                                                                  'labels', 'lengths',\n",
    "                                                                                                  'is', 'os', 'mx', 'my', 'mz'])\n",
    "    test_inputs, test_predictions, test_groundtruth, test_lengths, test_inp_scale, test_out_scale, test_mx, test_my, test_mz = tuple(torch.tensor(test[n]) for n in ['inputs', 'predictions',\n",
    "                                                                                                         'labels', 'lengths',\n",
    "                                                                                                         'is', 'os', 'mx', 'my', 'mz'])"
   ]
  },
  {
   "cell_type": "code",
   "execution_count": 10,
   "metadata": {},
   "outputs": [
    {
     "data": {
      "text/plain": [
       "(torch.Size([288, 250, 52]), torch.Size([32, 250, 26]), torch.Size([32]))"
      ]
     },
     "execution_count": 10,
     "metadata": {},
     "output_type": "execute_result"
    }
   ],
   "source": [
    "tr_inputs.shape, val_predictions.shape, test_lengths.shape"
   ]
  },
  {
   "cell_type": "code",
   "execution_count": 16,
   "metadata": {},
   "outputs": [],
   "source": [
    "frames = [i for i in range(1,9,2)]\n",
    "video_n = 29\n",
    "\n",
    "c_inputs = test_inputs.clone()\n",
    "c_output = test_predictions.clone()\n",
    "c_labels = test_groundtruth.clone()\n"
   ]
  },
  {
   "cell_type": "code",
   "execution_count": 17,
   "metadata": {},
   "outputs": [],
   "source": [
    "for vid in range(c_labels.shape[0]): \n",
    "    c_inputs[vid,:,::2].mul_(test_inp_scale[vid, 0])\n",
    "    c_inputs[vid,:,1::2].mul_(test_inp_scale[vid, 1])\n",
    "    c_output[vid].mul_(test_out_scale[vid,0])\n",
    "    c_labels[vid].mul_(test_out_scale[vid,1])\n",
    "    \n",
    "    c_inputs[vid,:,::2].mul_(test_mx[vid, 1])\n",
    "    c_inputs[vid,:,1::2].mul_(test_my[vid, 1])\n",
    "    c_output[vid].mul_(test_mz[vid,0])\n",
    "    c_labels[vid].mul_(test_mz[vid,1])"
   ]
  },
  {
   "cell_type": "code",
   "execution_count": 18,
   "metadata": {},
   "outputs": [],
   "source": [
    "from matplotlib.animation import FuncAnimation\n",
    "\n",
    "frames = [i for i in range(1,150)]\n",
    "inp = c_inputs\n",
    "preds = c_labels\n",
    "bodiesXY = torch.chunk(inp[video_n, frames, :], len(frames), dim=0)\n",
    "pred_bodiesZ = torch.chunk(preds[video_n, frames, :], len(frames), dim=0)\n",
    "limset = False\n",
    "global lims"
   ]
  },
  {
   "cell_type": "code",
   "execution_count": 19,
   "metadata": {},
   "outputs": [],
   "source": [
    "plt.close(\"all\")"
   ]
  },
  {
   "cell_type": "code",
   "execution_count": null,
   "metadata": {},
   "outputs": [],
   "source": [
    "def update(j):\n",
    "    fig = plt.figure()\n",
    "    fig.set_tight_layout(True)\n",
    "    ax = fig.add_subplot(111, projection='3d')\n",
    "    label = 'timestep {0}'.format(j)\n",
    "    # Update the line and the axes (with a new xlabel). Return a tuple of\n",
    "    # \"artists\" that have to be redrawn for this frame.\n",
    "    \n",
    "    x = bodiesXY[j].squeeze()[::2].tolist()\n",
    "    y = bodiesXY[j].squeeze()[1::2].tolist()\n",
    "    pred_z = pred_bodiesZ[j].squeeze().tolist()\n",
    "\n",
    "    r = R.from_euler('y', -60, degrees=True)\n",
    "\n",
    "    xyz1 = np.asarray([c for c in zip(x, y, pred_z)])\n",
    "    xyz1 = r.apply(xyz1)\n",
    "    x1 = xyz1[:,0]\n",
    "    y1 = xyz1[:,1]\n",
    "    pred_z = xyz1[:,2]\n",
    "\n",
    "    r_arm = [[c[i] for i in [1, 0, 9, 10, 11]] for c in [x1, y1, pred_z]]\n",
    "    l_arm = [[c[i] for i in [0, 3, 4, 5]] for c in [x1, y1, pred_z]]\n",
    "    r_leg = [[c[i] for i in [0, 2, 12, 13, 14, 22, 23, 24]] for c in [x1, y1, pred_z]]\n",
    "    l_leg = [[c[i] for i in [2, 6, 7, 8, 19, 20, 21]] for c in [x1, y1, pred_z]]\n",
    "    head = [[c[i] for i in [18, 17, 1, 15, 16]] for c in [x1, y1, pred_z]]\n",
    "\n",
    "    ax.plot(r_arm[0], r_arm[1], r_arm[2])\n",
    "    ax.plot(l_arm[0], l_arm[1], l_arm[2])\n",
    "    ax.plot(r_leg[0], r_leg[1], r_leg[2])\n",
    "    ax.plot(l_leg[0], l_leg[1], l_leg[2])\n",
    "    ax.plot(head[0], head[1], head[2])\n",
    "    \n",
    "    global limset\n",
    "    if not limset:\n",
    "        global lims\n",
    "        lims = ax.get_xlim(), ax.get_ylim(), ax.get_zlim()\n",
    "        limset = True\n",
    "    spans = lims[0][1]-lims[0][0], lims[1][1]-lims[1][0], lims[2][1]-lims[2][0]\n",
    "    span = max(spans)\n",
    "    margins = [(span-s)/2 for  s in spans]\n",
    "    ax.set_xlim(lims[0][0]-margins[0], lims[0][1]+margins[0])\n",
    "    ax.set_ylim(lims[1][0]-margins[1], lims[1][1]+margins[1])\n",
    "    ax.set_zlim(lims[2][0]-margins[2], lims[2][1]+margins[2])\n",
    "\n",
    "    ax.view_init(elev=-65., azim=-90.)\n",
    "    \n",
    "    ax.set_xlabel(label)\n",
    "    \n",
    "    # Used to return the plot as an image rray\n",
    "    fig.canvas.draw()       # draw the canvas, cache the renderer\n",
    "    image = np.frombuffer(fig.canvas.tostring_rgb(), dtype='uint8')\n",
    "    image  = image.reshape(fig.canvas.get_width_height()[::-1] + (3,))\n",
    "\n",
    "    return image\n",
    "\n",
    "kwargs_write = {'fps':10.0, 'quantizer':'nq'}\n",
    "imageio.mimsave('./test_bodyS_true.gif', [update(i) for i in range(148)], fps=15)"
   ]
  },
  {
   "cell_type": "code",
   "execution_count": null,
   "metadata": {},
   "outputs": [],
   "source": []
  },
  {
   "cell_type": "code",
   "execution_count": 46,
   "metadata": {},
   "outputs": [],
   "source": [
    "with open('../../results/small_face_S.json', 'r') as j:\n",
    "    jd = json.load(j)\n",
    "    tr, val, test = jd['train'], jd['validation'], jd['test']\n",
    "    tr_inputs, tr_predictions, tr_groundtruth, tr_lengths, tr_inp_scale, tr_out_scale, tr_mx, tr_my, tr_mz = tuple(torch.tensor(tr[n]) for n in ['inputs', 'predictions',\n",
    "                                                                                              'labels', 'lengths',\n",
    "                                                                                               'is', 'os', 'mx', 'my', 'mz'])\n",
    "    val_inputs, val_predictions, val_groundtruth, val_length, val_inp_scale, val_out_scale, val_mx, val_my, val_mz = tuple(torch.tensor(val[n]) for n in ['inputs', 'predictions',\n",
    "                                                                                                  'labels', 'lengths',\n",
    "                                                                                                  'is', 'os', 'mx', 'my', 'mz'])\n",
    "    test_inputs, test_predictions, test_groundtruth, test_lengths, test_inp_scale, test_out_scale, test_mx, test_my, test_mz = tuple(torch.tensor(test[n]) for n in ['inputs', 'predictions',\n",
    "                                                                                                         'labels', 'lengths',\n",
    "                                                                                                         'is', 'os', 'mx', 'my', 'mz'])"
   ]
  },
  {
   "cell_type": "code",
   "execution_count": 47,
   "metadata": {},
   "outputs": [
    {
     "data": {
      "text/plain": [
       "(torch.Size([288, 250, 140]), torch.Size([32, 250, 70]), torch.Size([32]))"
      ]
     },
     "execution_count": 47,
     "metadata": {},
     "output_type": "execute_result"
    }
   ],
   "source": [
    "tr_inputs.shape, val_predictions.shape, test_lengths.shape"
   ]
  },
  {
   "cell_type": "code",
   "execution_count": 48,
   "metadata": {},
   "outputs": [],
   "source": [
    "frames = [i for i in range(1,9,2)]\n",
    "video_n = 23\n",
    "\n",
    "c_inputs = test_inputs.clone()\n",
    "c_output = test_predictions.clone()\n",
    "c_labels = test_groundtruth.clone()\n"
   ]
  },
  {
   "cell_type": "code",
   "execution_count": 49,
   "metadata": {},
   "outputs": [],
   "source": [
    "for vid in range(c_labels.shape[0]): \n",
    "    c_inputs[vid,:,::2].mul_(test_inp_scale[vid, 0])\n",
    "    c_inputs[vid,:,1::2].mul_(test_inp_scale[vid, 1])\n",
    "    c_output[vid].mul_(test_out_scale[vid,0])\n",
    "    c_labels[vid].mul_(test_out_scale[vid,1])\n",
    "    \n",
    "    c_inputs[vid,:,::2].mul_(test_mx[vid, 1])\n",
    "    c_inputs[vid,:,1::2].mul_(test_my[vid, 1])\n",
    "    c_output[vid].mul_(test_mz[vid,0])\n",
    "    c_labels[vid].mul_(test_mz[vid,1])"
   ]
  },
  {
   "cell_type": "code",
   "execution_count": 50,
   "metadata": {},
   "outputs": [],
   "source": [
    "from matplotlib.animation import FuncAnimation\n",
    "\n",
    "frames = [i for i in range(1,150)]\n",
    "inp = c_inputs\n",
    "preds = c_labels\n",
    "bodiesXY = torch.chunk(inp[video_n, frames, :], len(frames), dim=0)\n",
    "pred_bodiesZ = torch.chunk(preds[video_n, frames, :], len(frames), dim=0)\n",
    "limset = False\n",
    "global lims"
   ]
  },
  {
   "cell_type": "code",
   "execution_count": 51,
   "metadata": {},
   "outputs": [],
   "source": [
    "plt.close(\"all\")"
   ]
  },
  {
   "cell_type": "code",
   "execution_count": null,
   "metadata": {},
   "outputs": [],
   "source": [
    "def update(j):\n",
    "    fig = plt.figure()\n",
    "    fig.set_tight_layout(True)\n",
    "    ax = fig.add_subplot(111, projection='3d')\n",
    "    label = 'timestep {0}'.format(j)\n",
    "    # Update the line and the axes (with a new xlabel). Return a tuple of\n",
    "    # \"artists\" that have to be redrawn for this frame.\n",
    "    \n",
    "    x = bodiesXY[j].squeeze()[::2].tolist()\n",
    "    y = bodiesXY[j].squeeze()[1::2].tolist()\n",
    "    pred_z = pred_bodiesZ[j].squeeze().tolist()\n",
    "\n",
    "    r = R.from_euler('y', -60, degrees=True)\n",
    "\n",
    "    xyz1 = np.asarray([c for c in zip(x, y, pred_z)])\n",
    "    xyz1 = r.apply(xyz1)\n",
    "    x1 = xyz1[:,0]\n",
    "    y1 = xyz1[:,1]\n",
    "    pred_z = xyz1[:,2]\n",
    "\n",
    "    r_eyebrow = [[c[i] for i in range(17, 22)] for c in [x1, y1, pred_z]]\n",
    "    l_eyebrow = [[c[i] for i in range(22, 27)] for c in [x1, y1, pred_z]]\n",
    "    l_eye = [[c[i] for i in range(42, 48)] for c in [x1, y1, pred_z]]\n",
    "    r_eye = [[c[i] for i in range(36, 42)] for c in [x1, y1, pred_z]]\n",
    "    nose1 = [[c[i] for i in range(27, 31)] for c in [x1, y1, pred_z]]\n",
    "    nose2 = [[c[i] for i in range(31, 36)] for c in [x1, y1, pred_z]]\n",
    "    ext_mouth = [[c[i] for i in range(48, 60)] for c in [x1, y1, pred_z]]\n",
    "    int_mouth = [[c[i] for i in range(60, 68)] for c in [x1, y1, pred_z]]\n",
    "    contour = [[c[i] for i in range(0, 17)] for c in [x1, y1, pred_z]]\n",
    "\n",
    "    ax.plot(r_eyebrow[0], r_eyebrow[1], r_eyebrow[2])\n",
    "    ax.plot(l_eyebrow[0], l_eyebrow[1], l_eyebrow[2])\n",
    "    ax.plot(l_eye[0], l_eye[1], l_eye[2])\n",
    "    ax.plot(r_eye[0], r_eye[1], r_eye[2])\n",
    "    ax.plot(nose1[0], nose1[1], nose1[2])\n",
    "    ax.plot(nose2[0], nose2[1], nose2[2])\n",
    "    ax.plot(ext_mouth[0], ext_mouth[1], ext_mouth[2])\n",
    "    ax.plot(int_mouth[0], int_mouth[1], int_mouth[2])\n",
    "    \n",
    "    global limset\n",
    "    if not limset:\n",
    "        global lims\n",
    "        lims = ax.get_xlim(), ax.get_ylim(), ax.get_zlim()\n",
    "        limset = True\n",
    "    spans = lims[0][1]-lims[0][0], lims[1][1]-lims[1][0], lims[2][1]-lims[2][0]\n",
    "    span = max(spans)\n",
    "    margins = [(span-s)/2 for  s in spans]\n",
    "    ax.set_xlim(lims[0][0]-margins[0], lims[0][1]+margins[0])\n",
    "    ax.set_ylim(lims[1][0]-margins[1], lims[1][1]+margins[1])\n",
    "    ax.set_zlim(lims[2][0]-margins[2], lims[2][1]+margins[2])\n",
    "\n",
    "    ax.view_init(elev=-65., azim=-90.)\n",
    "    \n",
    "    ax.set_xlabel(label)\n",
    "    \n",
    "    # Used to return the plot as an image rray\n",
    "    fig.canvas.draw()       # draw the canvas, cache the renderer\n",
    "    image = np.frombuffer(fig.canvas.tostring_rgb(), dtype='uint8')\n",
    "    image  = image.reshape(fig.canvas.get_width_height()[::-1] + (3,))\n",
    "\n",
    "    return image\n",
    "\n",
    "kwargs_write = {'fps':2.0, 'quantizer':'nq'}\n",
    "imageio.mimsave('./test_faceS_true.gif', [update(i) for i in range(148)], fps=15)"
   ]
  },
  {
   "cell_type": "code",
   "execution_count": null,
   "metadata": {},
   "outputs": [],
   "source": []
  },
  {
   "cell_type": "code",
   "execution_count": 20,
   "metadata": {},
   "outputs": [],
   "source": [
    "with open('../../results/small_hands_S.json', 'r') as j:\n",
    "    jd = json.load(j)\n",
    "    tr, val, test = jd['train'], jd['validation'], jd['test']\n",
    "    tr_inputs, tr_predictions, tr_groundtruth, tr_lengths, tr_inp_scale, tr_out_scale, tr_mx, tr_my, tr_mz = tuple(torch.tensor(tr[n]) for n in ['inputs', 'predictions',\n",
    "                                                                                              'labels', 'lengths',\n",
    "                                                                                               'is', 'os', 'mx', 'my', 'mz'])\n",
    "    val_inputs, val_predictions, val_groundtruth, val_length, val_inp_scale, val_out_scale, val_mx, val_my, val_mz = tuple(torch.tensor(val[n]) for n in ['inputs', 'predictions',\n",
    "                                                                                                  'labels', 'lengths',\n",
    "                                                                                                  'is', 'os', 'mx', 'my', 'mz'])\n",
    "    test_inputs, test_predictions, test_groundtruth, test_lengths, test_inp_scale, test_out_scale, test_mx, test_my, test_mz = tuple(torch.tensor(test[n]) for n in ['inputs', 'predictions',\n",
    "                                                                                                         'labels', 'lengths',\n",
    "                                                                                                         'is', 'os', 'mx', 'my', 'mz'])"
   ]
  },
  {
   "cell_type": "code",
   "execution_count": 21,
   "metadata": {},
   "outputs": [
    {
     "data": {
      "text/plain": [
       "(torch.Size([300, 250, 84]), torch.Size([25, 250, 42]), torch.Size([25]))"
      ]
     },
     "execution_count": 21,
     "metadata": {},
     "output_type": "execute_result"
    }
   ],
   "source": [
    "tr_inputs.shape, val_predictions.shape, test_lengths.shape"
   ]
  },
  {
   "cell_type": "code",
   "execution_count": 22,
   "metadata": {},
   "outputs": [],
   "source": [
    "frames = [i for i in range(1,9,2)]\n",
    "video_n = 17\n",
    "\n",
    "c_inputs = test_inputs.clone()\n",
    "c_output = test_predictions.clone()\n",
    "c_labels = test_groundtruth.clone()\n"
   ]
  },
  {
   "cell_type": "code",
   "execution_count": 23,
   "metadata": {},
   "outputs": [],
   "source": [
    "for vid in range(c_labels.shape[0]): \n",
    "    c_inputs[vid,:,::2].mul_(test_inp_scale[vid, 0])\n",
    "    c_inputs[vid,:,1::2].mul_(test_inp_scale[vid, 1])\n",
    "    c_output[vid].mul_(test_out_scale[vid,0])\n",
    "    c_labels[vid].mul_(test_out_scale[vid,1])\n",
    "    \n",
    "    c_inputs[vid,:,::2].mul_(test_mx[vid, 1])\n",
    "    c_inputs[vid,:,1::2].mul_(test_my[vid, 1])\n",
    "    c_output[vid].mul_(test_mz[vid,0])\n",
    "    c_labels[vid].mul_(test_mz[vid,1])"
   ]
  },
  {
   "cell_type": "code",
   "execution_count": 27,
   "metadata": {},
   "outputs": [],
   "source": [
    "from matplotlib.animation import FuncAnimation\n",
    "\n",
    "frames = [i for i in range(1,150)]\n",
    "inp = c_inputs\n",
    "preds = c_labels\n",
    "bodiesXY = torch.chunk(inp[video_n, frames, :], len(frames), dim=0)\n",
    "pred_bodiesZ = torch.chunk(preds[video_n, frames, :], len(frames), dim=0)\n",
    "limset = False\n",
    "global lims"
   ]
  },
  {
   "cell_type": "code",
   "execution_count": 28,
   "metadata": {},
   "outputs": [],
   "source": [
    "plt.close(\"all\")"
   ]
  },
  {
   "cell_type": "code",
   "execution_count": null,
   "metadata": {},
   "outputs": [],
   "source": [
    "def update(j):\n",
    "    fig = plt.figure()\n",
    "    fig.set_tight_layout(True)\n",
    "    ax = fig.add_subplot(111, projection='3d')\n",
    "    label = 'timestep {0}'.format(j)\n",
    "    # Update the line and the axes (with a new xlabel). Return a tuple of\n",
    "    # \"artists\" that have to be redrawn for this frame.\n",
    "    \n",
    "    x = bodiesXY[j].squeeze()[::2].tolist()\n",
    "    y = bodiesXY[j].squeeze()[1::2].tolist()\n",
    "    pred_z = pred_bodiesZ[j].squeeze().tolist()\n",
    "\n",
    "    r = R.from_euler('y', -60, degrees=True)\n",
    "\n",
    "    xyz1 = np.asarray([c for c in zip(x, y, pred_z)])\n",
    "    xyz1 = r.apply(xyz1)\n",
    "    x1 = xyz1[:,0]\n",
    "    y1 = xyz1[:,1]\n",
    "    pred_z = xyz1[:,2]\n",
    "\n",
    "    rh0 = [[c[i] for i in [0, 1, 2, 3, 4]] for c in [x1, y1, pred_z]]\n",
    "    rh1 = [[c[i] for i in [0, 5, 6, 7, 8]] for c in [x1, y1, pred_z]]\n",
    "    rh2 = [[c[i] for i in [0, 9, 10, 11, 12]] for c in [x1, y1, pred_z]]\n",
    "    rh3 = [[c[i] for i in [0, 13, 14, 15, 16]] for c in [x1, y1, pred_z]]\n",
    "    rh4 = [[c[i] for i in [0, 17, 18, 19, 20]] for c in [x1, y1, pred_z]]\n",
    "    lh0 = [[c[i+21] for i in [0, 1, 2, 3, 4]] for c in [x1, y1, pred_z]]\n",
    "    lh1 = [[c[i+21] for i in [0, 5, 6, 7, 8]] for c in [x1, y1, pred_z]]\n",
    "    lh2 = [[c[i+21] for i in [0, 9, 10, 11, 12]] for c in [x1, y1, pred_z]]\n",
    "    lh3 = [[c[i+21] for i in [0, 13, 14, 15, 16]] for c in [x1, y1, pred_z]]\n",
    "    lh4 = [[c[i+21] for i in [0, 17, 18, 19, 20]] for c in [x1, y1, pred_z]]\n",
    "\n",
    "    ax.plot(rh0[0], rh0[1], rh0[2])\n",
    "    ax.plot(rh1[0], rh1[1], rh1[2])\n",
    "    ax.plot(rh2[0], rh2[1], rh2[2])\n",
    "    ax.plot(rh3[0], rh3[1], rh3[2])\n",
    "    ax.plot(rh4[0], rh4[1], rh4[2])\n",
    "\n",
    "    ax.plot(lh0[0], lh0[1], lh0[2])\n",
    "    ax.plot(lh1[0], lh1[1], lh1[2])\n",
    "    ax.plot(lh2[0], lh2[1], lh2[2])\n",
    "    ax.plot(lh3[0], lh3[1], lh3[2])\n",
    "    ax.plot(lh4[0], lh4[1], lh4[2])\n",
    "    \n",
    "    global limset\n",
    "    if not limset:\n",
    "        global lims\n",
    "        lims = ax.get_xlim(), ax.get_ylim(), ax.get_zlim()\n",
    "        limset = True\n",
    "    spans = lims[0][1]-lims[0][0], lims[1][1]-lims[1][0], lims[2][1]-lims[2][0]\n",
    "    span = max(spans)\n",
    "    margins = [(span-s)/2 for  s in spans]\n",
    "    ax.set_xlim(lims[0][0]-margins[0], lims[0][1]+margins[0])\n",
    "    ax.set_ylim(lims[1][0]-margins[1], lims[1][1]+margins[1])\n",
    "    ax.set_zlim(lims[2][0]-margins[2], lims[2][1]+margins[2])\n",
    "\n",
    "    ax.view_init(elev=-65., azim=-90.)\n",
    "    \n",
    "    ax.set_xlabel(label)\n",
    "    \n",
    "    # Used to return the plot as an image rray\n",
    "    fig.canvas.draw()       # draw the canvas, cache the renderer\n",
    "    image = np.frombuffer(fig.canvas.tostring_rgb(), dtype='uint8')\n",
    "    image  = image.reshape(fig.canvas.get_width_height()[::-1] + (3,))\n",
    "\n",
    "    return image\n",
    "\n",
    "kwargs_write = {'fps':2.0, 'quantizer':'nq'}\n",
    "imageio.mimsave('./test_handsS_true.gif', [update(i) for i in range(148)], fps=15)"
   ]
  },
  {
   "cell_type": "code",
   "execution_count": null,
   "metadata": {},
   "outputs": [],
   "source": []
  },
  {
   "cell_type": "code",
   "execution_count": 52,
   "metadata": {},
   "outputs": [],
   "source": [
    "with open('../../results/small_all_S.json', 'r') as j:\n",
    "    jd = json.load(j)\n",
    "    tr, val, test = jd['train'], jd['validation'], jd['test']\n",
    "    tr_inputs, tr_predictions, tr_groundtruth, tr_lengths, tr_inp_scale, tr_out_scale, tr_mx, tr_my, tr_mz = tuple(torch.tensor(tr[n]) for n in ['inputs', 'predictions',\n",
    "                                                                                              'labels', 'lengths',\n",
    "                                                                                               'is', 'os', 'mx', 'my', 'mz'])\n",
    "    val_inputs, val_predictions, val_groundtruth, val_length, val_inp_scale, val_out_scale, val_mx, val_my, val_mz = tuple(torch.tensor(val[n]) for n in ['inputs', 'predictions',\n",
    "                                                                                                  'labels', 'lengths',\n",
    "                                                                                                  'is', 'os', 'mx', 'my', 'mz'])\n",
    "    test_inputs, test_predictions, test_groundtruth, test_lengths, test_inp_scale, test_out_scale, test_mx, test_my, test_mz = tuple(torch.tensor(test[n]) for n in ['inputs', 'predictions',\n",
    "                                                                                                         'labels', 'lengths',\n",
    "                                                                                                         'is', 'os', 'mx', 'my', 'mz'])"
   ]
  },
  {
   "cell_type": "code",
   "execution_count": 53,
   "metadata": {},
   "outputs": [
    {
     "data": {
      "text/plain": [
       "(torch.Size([288, 250, 276]), torch.Size([32, 250, 138]), torch.Size([32]))"
      ]
     },
     "execution_count": 53,
     "metadata": {},
     "output_type": "execute_result"
    }
   ],
   "source": [
    "tr_inputs.shape, val_predictions.shape, test_lengths.shape"
   ]
  },
  {
   "cell_type": "code",
   "execution_count": 54,
   "metadata": {},
   "outputs": [],
   "source": [
    "video_n = 23\n",
    "\n",
    "c_inputs = test_inputs.clone()\n",
    "c_output = test_predictions.clone()\n",
    "c_labels = test_groundtruth.clone()\n"
   ]
  },
  {
   "cell_type": "code",
   "execution_count": 55,
   "metadata": {},
   "outputs": [],
   "source": [
    "for vid in range(c_labels.shape[0]): \n",
    "    c_inputs[vid,:,::2].mul_(test_inp_scale[vid, 0])\n",
    "    c_inputs[vid,:,1::2].mul_(test_inp_scale[vid, 1])\n",
    "    c_output[vid].mul_(test_out_scale[vid,0])\n",
    "    c_labels[vid].mul_(test_out_scale[vid,1])\n",
    "    \n",
    "    c_inputs[vid,:,::2].mul_(test_mx[vid, 1])\n",
    "    c_inputs[:,:,1::2].mul_(test_my[vid, 1])\n",
    "    c_output[vid].mul_(test_mz[vid,0]*10)\n",
    "    c_labels[vid].mul_(test_mz[vid,1])"
   ]
  },
  {
   "cell_type": "code",
   "execution_count": 59,
   "metadata": {},
   "outputs": [],
   "source": [
    "from matplotlib.animation import FuncAnimation\n",
    "\n",
    "frames = [i for i in range(150)]\n",
    "inp = c_inputs\n",
    "preds = c_labels\n",
    "bodiesXY = torch.chunk(inp[video_n, frames, :], len(frames), dim=0)\n",
    "pred_bodiesZ = torch.chunk(preds[video_n, frames, :], len(frames), dim=0)\n",
    "limset = False\n",
    "global lims"
   ]
  },
  {
   "cell_type": "code",
   "execution_count": 60,
   "metadata": {},
   "outputs": [],
   "source": [
    "plt.close(\"all\")"
   ]
  },
  {
   "cell_type": "code",
   "execution_count": null,
   "metadata": {},
   "outputs": [],
   "source": [
    "def update(j):\n",
    "    fig = plt.figure()\n",
    "    ax = fig.add_subplot(111, projection='3d')\n",
    "    label = 'timestep {0}'.format(j)\n",
    "    # Update the line and the axes (with a new xlabel). Return a tuple of\n",
    "    # \"artists\" that have to be redrawn for this frame.\n",
    "    \n",
    "    x = bodiesXY[j].squeeze()[::2].tolist()\n",
    "    y = bodiesXY[j].squeeze()[1::2].tolist()\n",
    "    pred_z = pred_bodiesZ[j].squeeze().tolist()\n",
    "\n",
    "    r = R.from_euler('y', -60, degrees=True)\n",
    "\n",
    "    xyz1 = np.asarray([c for c in zip(x, y, pred_z)])\n",
    "    xyz1 = r.apply(xyz1)\n",
    "    x1 = xyz1[:,0]\n",
    "    y1 = xyz1[:,1]\n",
    "    pred_z = xyz1[:,2]\n",
    "\n",
    "    r_eyebrow = [[c[i] for i in range(17, 22)] for c in [x1, y1, pred_z]]\n",
    "    l_eyebrow = [[c[i] for i in range(22, 27)] for c in [x1, y1, pred_z]]\n",
    "    l_eye = [[c[i] for i in range(42, 48)] for c in [x1, y1, pred_z]]\n",
    "    r_eye = [[c[i] for i in range(36, 42)] for c in [x1, y1, pred_z]]\n",
    "    nose1 = [[c[i] for i in range(27, 31)] for c in [x1, y1, pred_z]]\n",
    "    nose2 = [[c[i] for i in range(31, 36)] for c in [x1, y1, pred_z]]\n",
    "    ext_mouth = [[c[i] for i in range(48, 60)] for c in [x1, y1, pred_z]]\n",
    "    int_mouth = [[c[i] for i in range(60, 68)] for c in [x1, y1, pred_z]]\n",
    "    contour = [[c[i] for i in range(0, 17)] for c in [x1, y1, pred_z]]\n",
    "    \n",
    "    rh0 = [[c[i+70] for i in [0, 1, 2, 3, 4]] for c in [x1, y1, pred_z]]\n",
    "    rh1 = [[c[i+70] for i in [0, 5, 6, 7, 8]] for c in [x1, y1, pred_z]]\n",
    "    rh2 = [[c[i+70] for i in [0, 9, 10, 11, 12]] for c in [x1, y1, pred_z]]\n",
    "    rh3 = [[c[i+70] for i in [0, 13, 14, 15, 16]] for c in [x1, y1, pred_z]]\n",
    "    rh4 = [[c[i+70] for i in [0, 17, 18, 19, 20]] for c in [x1, y1, pred_z]]\n",
    "    lh0 = [[c[i+91] for i in [0, 1, 2, 3, 4]] for c in [x1, y1, pred_z]]\n",
    "    lh1 = [[c[i+91] for i in [0, 5, 6, 7, 8]] for c in [x1, y1, pred_z]]\n",
    "    lh2 = [[c[i+91] for i in [0, 9, 10, 11, 12]] for c in [x1, y1, pred_z]]\n",
    "    lh3 = [[c[i+91] for i in [0, 13, 14, 15, 16]] for c in [x1, y1, pred_z]]\n",
    "    lh4 = [[c[i+91] for i in [0, 17, 18, 19, 20]] for c in [x1, y1, pred_z]]\n",
    "    \n",
    "\n",
    "    r_arm = [[c[i+112] for i in [1, 0, 9, 10, 11]] for c in [x1, y1, pred_z]]\n",
    "    l_arm = [[c[i+112] for i in [0, 3, 4, 5]] for c in [x1, y1, pred_z]]\n",
    "    r_leg = [[c[i+112] for i in [0, 2, 12, 13, 14, 22, 23, 24]] for c in [x1, y1, pred_z]]\n",
    "    l_leg = [[c[i+112] for i in [2, 6, 7, 8, 19, 20, 21]] for c in [x1, y1, pred_z]]\n",
    "    head = [[c[i+112] for i in [18, 17, 1, 15, 16]] for c in [x1, y1, pred_z]]\n",
    "\n",
    "    ax.plot(r_eyebrow[0], r_eyebrow[1], r_eyebrow[2])\n",
    "    ax.plot(l_eyebrow[0], l_eyebrow[1], l_eyebrow[2])\n",
    "    ax.plot(l_eye[0], l_eye[1], l_eye[2])\n",
    "    ax.plot(r_eye[0], r_eye[1], r_eye[2])\n",
    "    ax.plot(nose1[0], nose1[1], nose1[2])\n",
    "    ax.plot(nose2[0], nose2[1], nose2[2])\n",
    "    ax.plot(ext_mouth[0], ext_mouth[1], ext_mouth[2])\n",
    "    ax.plot(int_mouth[0], int_mouth[1], int_mouth[2])\n",
    "    \n",
    "    ax.plot(rh0[0], rh0[1], rh0[2])\n",
    "    ax.plot(rh1[0], rh1[1], rh1[2])\n",
    "    ax.plot(rh2[0], rh2[1], rh2[2])\n",
    "    ax.plot(rh3[0], rh3[1], rh3[2])\n",
    "    ax.plot(rh4[0], rh4[1], rh4[2])\n",
    "\n",
    "    ax.plot(lh0[0], lh0[1], lh0[2])\n",
    "    ax.plot(lh1[0], lh1[1], lh1[2])\n",
    "    ax.plot(lh2[0], lh2[1], lh2[2])\n",
    "    ax.plot(lh3[0], lh3[1], lh3[2])\n",
    "    ax.plot(lh4[0], lh4[1], lh4[2])\n",
    "    \n",
    "    ax.plot(r_arm[0], r_arm[1], r_arm[2])\n",
    "    ax.plot(l_arm[0], l_arm[1], l_arm[2])\n",
    "    ax.plot(r_leg[0], r_leg[1], r_leg[2])\n",
    "    ax.plot(l_leg[0], l_leg[1], l_leg[2])\n",
    "    ax.plot(head[0], head[1], head[2])\n",
    "    \n",
    "    global limset\n",
    "    if not limset:\n",
    "        global lims\n",
    "        lims = ax.get_xlim(), ax.get_ylim(), ax.get_zlim()\n",
    "        limset = True\n",
    "    spans = lims[0][1]-lims[0][0], lims[1][1]-lims[1][0], lims[2][1]-lims[2][0]\n",
    "    span = max(spans)\n",
    "    margins = [(span-s)/2 for  s in spans]\n",
    "    ax.set_xlim(lims[0][0]-margins[0], lims[0][1]+margins[0])\n",
    "    ax.set_ylim(lims[1][0]-margins[1], lims[1][1]+margins[1])\n",
    "    ax.set_zlim(lims[2][0]-margins[2], lims[2][1]+margins[2])\n",
    "\n",
    "    ax.view_init(elev=-65., azim=-90.)\n",
    "    \n",
    "    ax.set_xlabel(label)\n",
    "    \n",
    "    # Used to return the plot as an image rray\n",
    "    fig.canvas.draw()       # draw the canvas, cache the renderer\n",
    "    image = np.frombuffer(fig.canvas.tostring_rgb(), dtype='uint8')\n",
    "    image  = image.reshape(fig.canvas.get_width_height()[::-1] + (3,))\n",
    "\n",
    "    return image\n",
    "\n",
    "kwargs_write = {'fps':2.0, 'quantizer':'nq'}\n",
    "imageio.mimsave('./test_allS_true.gif', [update(i) for i in range(148)], fps=15)"
   ]
  },
  {
   "cell_type": "code",
   "execution_count": null,
   "metadata": {},
   "outputs": [],
   "source": []
  }
 ],
 "metadata": {
  "kernelspec": {
   "display_name": "Python 3",
   "language": "python",
   "name": "python3"
  },
  "language_info": {
   "codemirror_mode": {
    "name": "ipython",
    "version": 3
   },
   "file_extension": ".py",
   "mimetype": "text/x-python",
   "name": "python",
   "nbconvert_exporter": "python",
   "pygments_lexer": "ipython3",
   "version": "3.7.4"
  }
 },
 "nbformat": 4,
 "nbformat_minor": 4
}
